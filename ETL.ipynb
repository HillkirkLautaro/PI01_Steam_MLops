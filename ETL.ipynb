{
 "cells": [
  {
   "cell_type": "markdown",
   "metadata": {},
   "source": [
    "# ETL"
   ]
  },
  {
   "cell_type": "markdown",
   "metadata": {},
   "source": [
    "En esta jupyter notebook se desarrolla la extracción, transformación y carga de los conjuntos de datos."
   ]
  },
  {
   "cell_type": "markdown",
   "metadata": {},
   "source": [
    "## Importaciones"
   ]
  },
  {
   "cell_type": "code",
   "execution_count": 3,
   "metadata": {},
   "outputs": [],
   "source": [
    "import pandas as pd\n",
    "import json\n",
    "import gzip\n",
    "import numpy as np\n",
    "import ast\n",
    "from tqdm import tqdm\n",
    "\n",
    "\n",
    "%load_ext autoreload\n",
    "%autoreload 2\n",
    "import utils\n",
    "\n",
    "import warnings\n",
    "warnings.filterwarnings(\"ignore\")"
   ]
  },
  {
   "cell_type": "markdown",
   "metadata": {},
   "source": [
    "## Extracción de los datos"
   ]
  },
  {
   "cell_type": "markdown",
   "metadata": {},
   "source": [
    "Funcion para extraer los datos \".json\" y convertirlos en \".csv\" para la exploración."
   ]
  },
  {
   "cell_type": "code",
   "execution_count": 6,
   "metadata": {},
   "outputs": [],
   "source": [
    "\n",
    "def procesar_archivo_json(ruta, tipo='json', nombre_archivo_salida='datos.csv'):\n",
    "    \"\"\"\n",
    "    Esta función lee datos desde cada archivo de mi carpeta y los convierte en un DataFrame de pandas.\n",
    "\n",
    "    Args:\n",
    "        ruta (str): La ruta al archivo que se va a leer.\n",
    "        tipo (str, optional): El formato de los datos en el archivo. Puede ser 'json' o 'literal'. \n",
    "                              Si es 'json', los datos se cargarán utilizando json.loads. \n",
    "                              Si es 'literal', los datos se cargarán utilizando ast.literal_eval. \n",
    "                              Por defecto es 'json'.\n",
    "        nombre_archivo_salida (str, optional): El nombre del archivo CSV de salida.\n",
    "                                                Por defecto es 'datos.csv'.\n",
    "\n",
    "    Returns:\n",
    "        None\n",
    "    \"\"\"\n",
    "    filas = []  # Será la lista para almacenar cada fila de datos\n",
    "\n",
    "    with gzip.open(ruta, 'rt', encoding='utf-8') as f:\n",
    "        for line in tqdm(f.readlines(), desc=f\"Leyendo {ruta}\"):\n",
    "            if tipo == 'json':\n",
    "                data = json.loads(line)\n",
    "            elif tipo == 'literal':\n",
    "                data = ast.literal_eval(line)\n",
    "            filas.append(data)\n",
    "\n",
    "    # Convierte la lista de filas en un DataFrame de pandas\n",
    "    df = pd.DataFrame(filas)\n",
    "    \n",
    "    # Guarda el DataFrame como un archivo CSV\n",
    "    df.to_csv(nombre_archivo_salida, index=False)"
   ]
  },
  {
   "cell_type": "code",
   "execution_count": 42,
   "metadata": {},
   "outputs": [
    {
     "name": "stderr",
     "output_type": "stream",
     "text": [
      "Leyendo C:\\Users\\123la\\Documents\\GitHub\\ssss\\PI01_Steam_MLops\\data\\steam_games.json.gz: 100%|██████████| 120445/120445 [00:00<00:00, 143771.85it/s]\n"
     ]
    }
   ],
   "source": [
    "procesar_archivo_json(r'C:\\Users\\123la\\Documents\\GitHub\\ssss\\PI01_Steam_MLops\\data\\steam_games.json.gz', nombre_archivo_salida='games.csv' )\n",
    "procesar_archivo_json(r'C:\\Users\\123la\\Documents\\GitHub\\ssss\\PI01_Steam_MLops\\data\\users_items.json.gz', tipo= 'literal',nombre_archivo_salida='items.csv' )\n",
    "procesar_archivo_json(r'C:\\Users\\123la\\Documents\\GitHub\\ssss\\PI01_Steam_MLops\\data\\user_reviews.json.gz', tipo= 'literal', nombre_archivo_salida='reviews.csv')"
   ]
  },
  {
   "cell_type": "markdown",
   "metadata": {},
   "source": [
    "# Transformación de los datos\n"
   ]
  },
  {
   "cell_type": "markdown",
   "metadata": {},
   "source": [
    "### 'games.csv'.\n"
   ]
  },
  {
   "cell_type": "code",
   "execution_count": 43,
   "metadata": {},
   "outputs": [
    {
     "data": {
      "text/html": [
       "<div>\n",
       "<style scoped>\n",
       "    .dataframe tbody tr th:only-of-type {\n",
       "        vertical-align: middle;\n",
       "    }\n",
       "\n",
       "    .dataframe tbody tr th {\n",
       "        vertical-align: top;\n",
       "    }\n",
       "\n",
       "    .dataframe thead th {\n",
       "        text-align: right;\n",
       "    }\n",
       "</style>\n",
       "<table border=\"1\" class=\"dataframe\">\n",
       "  <thead>\n",
       "    <tr style=\"text-align: right;\">\n",
       "      <th></th>\n",
       "      <th>publisher</th>\n",
       "      <th>genres</th>\n",
       "      <th>app_name</th>\n",
       "      <th>title</th>\n",
       "      <th>url</th>\n",
       "      <th>release_date</th>\n",
       "      <th>tags</th>\n",
       "      <th>reviews_url</th>\n",
       "      <th>specs</th>\n",
       "      <th>price</th>\n",
       "      <th>early_access</th>\n",
       "      <th>id</th>\n",
       "      <th>developer</th>\n",
       "    </tr>\n",
       "  </thead>\n",
       "  <tbody>\n",
       "    <tr>\n",
       "      <th>0</th>\n",
       "      <td>NaN</td>\n",
       "      <td>NaN</td>\n",
       "      <td>NaN</td>\n",
       "      <td>NaN</td>\n",
       "      <td>NaN</td>\n",
       "      <td>NaN</td>\n",
       "      <td>NaN</td>\n",
       "      <td>NaN</td>\n",
       "      <td>NaN</td>\n",
       "      <td>NaN</td>\n",
       "      <td>NaN</td>\n",
       "      <td>NaN</td>\n",
       "      <td>NaN</td>\n",
       "    </tr>\n",
       "    <tr>\n",
       "      <th>1</th>\n",
       "      <td>NaN</td>\n",
       "      <td>NaN</td>\n",
       "      <td>NaN</td>\n",
       "      <td>NaN</td>\n",
       "      <td>NaN</td>\n",
       "      <td>NaN</td>\n",
       "      <td>NaN</td>\n",
       "      <td>NaN</td>\n",
       "      <td>NaN</td>\n",
       "      <td>NaN</td>\n",
       "      <td>NaN</td>\n",
       "      <td>NaN</td>\n",
       "      <td>NaN</td>\n",
       "    </tr>\n",
       "    <tr>\n",
       "      <th>2</th>\n",
       "      <td>NaN</td>\n",
       "      <td>NaN</td>\n",
       "      <td>NaN</td>\n",
       "      <td>NaN</td>\n",
       "      <td>NaN</td>\n",
       "      <td>NaN</td>\n",
       "      <td>NaN</td>\n",
       "      <td>NaN</td>\n",
       "      <td>NaN</td>\n",
       "      <td>NaN</td>\n",
       "      <td>NaN</td>\n",
       "      <td>NaN</td>\n",
       "      <td>NaN</td>\n",
       "    </tr>\n",
       "    <tr>\n",
       "      <th>3</th>\n",
       "      <td>NaN</td>\n",
       "      <td>NaN</td>\n",
       "      <td>NaN</td>\n",
       "      <td>NaN</td>\n",
       "      <td>NaN</td>\n",
       "      <td>NaN</td>\n",
       "      <td>NaN</td>\n",
       "      <td>NaN</td>\n",
       "      <td>NaN</td>\n",
       "      <td>NaN</td>\n",
       "      <td>NaN</td>\n",
       "      <td>NaN</td>\n",
       "      <td>NaN</td>\n",
       "    </tr>\n",
       "    <tr>\n",
       "      <th>4</th>\n",
       "      <td>NaN</td>\n",
       "      <td>NaN</td>\n",
       "      <td>NaN</td>\n",
       "      <td>NaN</td>\n",
       "      <td>NaN</td>\n",
       "      <td>NaN</td>\n",
       "      <td>NaN</td>\n",
       "      <td>NaN</td>\n",
       "      <td>NaN</td>\n",
       "      <td>NaN</td>\n",
       "      <td>NaN</td>\n",
       "      <td>NaN</td>\n",
       "      <td>NaN</td>\n",
       "    </tr>\n",
       "  </tbody>\n",
       "</table>\n",
       "</div>"
      ],
      "text/plain": [
       "  publisher genres app_name title  url release_date tags reviews_url specs  \\\n",
       "0       NaN    NaN      NaN   NaN  NaN          NaN  NaN         NaN   NaN   \n",
       "1       NaN    NaN      NaN   NaN  NaN          NaN  NaN         NaN   NaN   \n",
       "2       NaN    NaN      NaN   NaN  NaN          NaN  NaN         NaN   NaN   \n",
       "3       NaN    NaN      NaN   NaN  NaN          NaN  NaN         NaN   NaN   \n",
       "4       NaN    NaN      NaN   NaN  NaN          NaN  NaN         NaN   NaN   \n",
       "\n",
       "  price early_access  id developer  \n",
       "0   NaN          NaN NaN       NaN  \n",
       "1   NaN          NaN NaN       NaN  \n",
       "2   NaN          NaN NaN       NaN  \n",
       "3   NaN          NaN NaN       NaN  \n",
       "4   NaN          NaN NaN       NaN  "
      ]
     },
     "execution_count": 43,
     "metadata": {},
     "output_type": "execute_result"
    }
   ],
   "source": [
    "df = pd.read_csv(r'C:\\Users\\123la\\Documents\\GitHub\\ssss\\PI01_Steam_MLops\\data\\games.csv', encoding = \"utf-8\")\n",
    "df.head()"
   ]
  },
  {
   "cell_type": "code",
   "execution_count": 44,
   "metadata": {},
   "outputs": [
    {
     "name": "stdout",
     "output_type": "stream",
     "text": [
      "Cantidad de valores vacíos por columna:\n",
      "publisher       96381\n",
      "genres          91593\n",
      "app_name        88312\n",
      "title           90360\n",
      "url             88310\n",
      "release_date    90377\n",
      "tags            88473\n",
      "reviews_url     88312\n",
      "specs           88980\n",
      "price           89687\n",
      "early_access    88310\n",
      "id              88312\n",
      "developer       91609\n",
      "dtype: int64\n",
      "\n",
      "Cantidad total de valores vacíos en el DataFrame: 1169016\n"
     ]
    }
   ],
   "source": [
    "cantidad_vacios_por_columna = df.isnull().sum()\n",
    "cantidad_total_vacios = df.isnull().sum().sum()\n",
    "\n",
    "print(\"Cantidad de valores vacíos por columna:\")\n",
    "print(cantidad_vacios_por_columna)\n",
    "print(\"\\nCantidad total de valores vacíos en el DataFrame:\", cantidad_total_vacios)\n"
   ]
  },
  {
   "cell_type": "code",
   "execution_count": 45,
   "metadata": {},
   "outputs": [
    {
     "name": "stdout",
     "output_type": "stream",
     "text": [
      "Cantidad de valores vacíos por columna:\n",
      "publisher       0\n",
      "genres          0\n",
      "app_name        0\n",
      "title           0\n",
      "url             0\n",
      "release_date    0\n",
      "tags            0\n",
      "reviews_url     0\n",
      "specs           0\n",
      "price           0\n",
      "early_access    0\n",
      "id              0\n",
      "developer       0\n",
      "dtype: int64\n",
      "\n",
      "Cantidad total de valores vacíos en el DataFrame: 0\n"
     ]
    }
   ],
   "source": [
    "df = df.dropna()\n",
    "cantidad_vacios_por_columna = df.isnull().sum()\n",
    "cantidad_total_vacios = df.isnull().sum().sum()\n",
    "\n",
    "print(\"Cantidad de valores vacíos por columna:\")\n",
    "print(cantidad_vacios_por_columna)\n",
    "print(\"\\nCantidad total de valores vacíos en el DataFrame:\", cantidad_total_vacios)\n"
   ]
  },
  {
   "cell_type": "markdown",
   "metadata": {},
   "source": [
    "##### Que columnas conservar\n"
   ]
  },
  {
   "cell_type": "markdown",
   "metadata": {},
   "source": [
    "Teniendo en cuenta que se nos pide : \n",
    "\n",
    "* def *developer*( desarrollador : str ): Cantidad de items y porcentaje de contenido Free por año según empresa desarrolladora.\n",
    "Mantener : \"tags\", \"developer\"\n",
    "\n",
    "* def *userdata*( User_id : str ): Debe devolver cantidad de dinero gastado por el usuario, el porcentaje de recomendación en base a reviews.recommend y cantidad de items.\n",
    "Mantener : \"price\"\n",
    "\n",
    "* def *UserForGenre*( genero : str ): Debe devolver el usuario que acumula más horas jugadas para el género dado y una lista de la acumulación de horas jugadas por año de lanzamiento.\n",
    "Mantener : \"genre\", \"release_date\"\n",
    "\n",
    "* def *best_developer_year*( año : int ): Devuelve el top 3 de desarrolladores con juegos MÁS recomendados por usuarios para el año dado. (reviews.recommend = True y comentarios positivos)\n",
    "Mantener : \"developer\"\n",
    "\n",
    "* def *developer_reviews_analysis*( desarrolladora : str ): Según el desarrollador, se devuelve un diccionario con el nombre del desarrollador como llave y una lista con la cantidad total de registros de reseñas de usuarios que se encuentren categorizados con un análisis de sentimiento como valor positivo o negativo.\n",
    "Mantener : \"developer\"."
   ]
  },
  {
   "cell_type": "markdown",
   "metadata": {},
   "source": [
    "Las columnas a mantener: \"developer\", \"price\", \"genre\", \"release_date\", \"tags\", \"id\", \"title\". A eliminar: \"app_name\", \"publisher\", \"url\", \"early_access\", \"specs\""
   ]
  },
  {
   "cell_type": "code",
   "execution_count": 46,
   "metadata": {},
   "outputs": [],
   "source": [
    "del df['app_name']\n",
    "del df['publisher']\n",
    "del df['url']\n",
    "del df['early_access']\n",
    "del df['specs']"
   ]
  },
  {
   "cell_type": "code",
   "execution_count": 47,
   "metadata": {},
   "outputs": [
    {
     "data": {
      "text/plain": [
       "Index(['genres', 'title', 'release_date', 'tags', 'reviews_url', 'price', 'id',\n",
       "       'developer'],\n",
       "      dtype='object')"
      ]
     },
     "execution_count": 47,
     "metadata": {},
     "output_type": "execute_result"
    }
   ],
   "source": [
    "df.columns"
   ]
  },
  {
   "cell_type": "code",
   "execution_count": 48,
   "metadata": {},
   "outputs": [
    {
     "data": {
      "text/html": [
       "<div>\n",
       "<style scoped>\n",
       "    .dataframe tbody tr th:only-of-type {\n",
       "        vertical-align: middle;\n",
       "    }\n",
       "\n",
       "    .dataframe tbody tr th {\n",
       "        vertical-align: top;\n",
       "    }\n",
       "\n",
       "    .dataframe thead th {\n",
       "        text-align: right;\n",
       "    }\n",
       "</style>\n",
       "<table border=\"1\" class=\"dataframe\">\n",
       "  <thead>\n",
       "    <tr style=\"text-align: right;\">\n",
       "      <th></th>\n",
       "      <th>genres</th>\n",
       "      <th>title</th>\n",
       "      <th>release_date</th>\n",
       "      <th>tags</th>\n",
       "      <th>reviews_url</th>\n",
       "      <th>price</th>\n",
       "      <th>id</th>\n",
       "      <th>developer</th>\n",
       "    </tr>\n",
       "  </thead>\n",
       "  <tbody>\n",
       "    <tr>\n",
       "      <th>88310</th>\n",
       "      <td>['Action', 'Casual', 'Indie', 'Simulation', 'S...</td>\n",
       "      <td>Lost Summoner Kitty</td>\n",
       "      <td>2018-01-04</td>\n",
       "      <td>['Strategy', 'Action', 'Indie', 'Casual', 'Sim...</td>\n",
       "      <td>http://steamcommunity.com/app/761140/reviews/?...</td>\n",
       "      <td>4.99</td>\n",
       "      <td>761140.0</td>\n",
       "      <td>Kotoshiro</td>\n",
       "    </tr>\n",
       "    <tr>\n",
       "      <th>88311</th>\n",
       "      <td>['Free to Play', 'Indie', 'RPG', 'Strategy']</td>\n",
       "      <td>Ironbound</td>\n",
       "      <td>2018-01-04</td>\n",
       "      <td>['Free to Play', 'Strategy', 'Indie', 'RPG', '...</td>\n",
       "      <td>http://steamcommunity.com/app/643980/reviews/?...</td>\n",
       "      <td>Free To Play</td>\n",
       "      <td>643980.0</td>\n",
       "      <td>Secret Level SRL</td>\n",
       "    </tr>\n",
       "    <tr>\n",
       "      <th>88312</th>\n",
       "      <td>['Casual', 'Free to Play', 'Indie', 'Simulatio...</td>\n",
       "      <td>Real Pool 3D - Poolians</td>\n",
       "      <td>2017-07-24</td>\n",
       "      <td>['Free to Play', 'Simulation', 'Sports', 'Casu...</td>\n",
       "      <td>http://steamcommunity.com/app/670290/reviews/?...</td>\n",
       "      <td>Free to Play</td>\n",
       "      <td>670290.0</td>\n",
       "      <td>Poolians.com</td>\n",
       "    </tr>\n",
       "    <tr>\n",
       "      <th>88313</th>\n",
       "      <td>['Action', 'Adventure', 'Casual']</td>\n",
       "      <td>弹炸人2222</td>\n",
       "      <td>2017-12-07</td>\n",
       "      <td>['Action', 'Adventure', 'Casual']</td>\n",
       "      <td>http://steamcommunity.com/app/767400/reviews/?...</td>\n",
       "      <td>0.99</td>\n",
       "      <td>767400.0</td>\n",
       "      <td>彼岸领域</td>\n",
       "    </tr>\n",
       "    <tr>\n",
       "      <th>88315</th>\n",
       "      <td>['Action', 'Adventure', 'Simulation']</td>\n",
       "      <td>Battle Royale Trainer</td>\n",
       "      <td>2018-01-04</td>\n",
       "      <td>['Action', 'Adventure', 'Simulation', 'FPS', '...</td>\n",
       "      <td>http://steamcommunity.com/app/772540/reviews/?...</td>\n",
       "      <td>3.99</td>\n",
       "      <td>772540.0</td>\n",
       "      <td>Trickjump Games Ltd</td>\n",
       "    </tr>\n",
       "  </tbody>\n",
       "</table>\n",
       "</div>"
      ],
      "text/plain": [
       "                                                  genres  \\\n",
       "88310  ['Action', 'Casual', 'Indie', 'Simulation', 'S...   \n",
       "88311       ['Free to Play', 'Indie', 'RPG', 'Strategy']   \n",
       "88312  ['Casual', 'Free to Play', 'Indie', 'Simulatio...   \n",
       "88313                  ['Action', 'Adventure', 'Casual']   \n",
       "88315              ['Action', 'Adventure', 'Simulation']   \n",
       "\n",
       "                         title release_date  \\\n",
       "88310      Lost Summoner Kitty   2018-01-04   \n",
       "88311                Ironbound   2018-01-04   \n",
       "88312  Real Pool 3D - Poolians   2017-07-24   \n",
       "88313                  弹炸人2222   2017-12-07   \n",
       "88315    Battle Royale Trainer   2018-01-04   \n",
       "\n",
       "                                                    tags  \\\n",
       "88310  ['Strategy', 'Action', 'Indie', 'Casual', 'Sim...   \n",
       "88311  ['Free to Play', 'Strategy', 'Indie', 'RPG', '...   \n",
       "88312  ['Free to Play', 'Simulation', 'Sports', 'Casu...   \n",
       "88313                  ['Action', 'Adventure', 'Casual']   \n",
       "88315  ['Action', 'Adventure', 'Simulation', 'FPS', '...   \n",
       "\n",
       "                                             reviews_url         price  \\\n",
       "88310  http://steamcommunity.com/app/761140/reviews/?...          4.99   \n",
       "88311  http://steamcommunity.com/app/643980/reviews/?...  Free To Play   \n",
       "88312  http://steamcommunity.com/app/670290/reviews/?...  Free to Play   \n",
       "88313  http://steamcommunity.com/app/767400/reviews/?...          0.99   \n",
       "88315  http://steamcommunity.com/app/772540/reviews/?...          3.99   \n",
       "\n",
       "             id            developer  \n",
       "88310  761140.0            Kotoshiro  \n",
       "88311  643980.0     Secret Level SRL  \n",
       "88312  670290.0         Poolians.com  \n",
       "88313  767400.0                 彼岸领域  \n",
       "88315  772540.0  Trickjump Games Ltd  "
      ]
     },
     "execution_count": 48,
     "metadata": {},
     "output_type": "execute_result"
    }
   ],
   "source": [
    "df.head()"
   ]
  },
  {
   "cell_type": "code",
   "execution_count": 49,
   "metadata": {},
   "outputs": [],
   "source": [
    "#Convertimos la columa release_date a formato fecha\n",
    "df['release_date']=pd.to_datetime(df['release_date'], errors='coerce', exact=False)\n",
    "\n",
    "#Solo nos interesa el año\n",
    "\n",
    "# Extraer el año y crear una nueva columna 'release_year'\n",
    "df['year'] = df['release_date'].dt.year.astype('Int64')\n",
    "\n",
    "# Eliminar la columna 'release_date'\n",
    "df = df.drop(columns=['release_date'])"
   ]
  },
  {
   "cell_type": "code",
   "execution_count": 50,
   "metadata": {},
   "outputs": [
    {
     "name": "stdout",
     "output_type": "stream",
     "text": [
      "cantidad de nulos en \"year\" : 34\n",
      "cantidad de nulos en \"1year\" : 0\n"
     ]
    }
   ],
   "source": [
    "# Si aún hay valores nulo, se llenan con la mediana. \n",
    "print('cantidad de nulos en \"year\" :', df['year'].isna().sum())\n",
    "df['year'] = df['year'].fillna(df['year'].median())\n",
    "print('cantidad de nulos en \"year\" :', df['year'].isna().sum())\n"
   ]
  },
  {
   "cell_type": "code",
   "execution_count": 52,
   "metadata": {},
   "outputs": [],
   "source": [
    "# Convertir 'price' a tipo numérico, asignar NaN a 'Free To Play'\n",
    "df['price'] = pd.to_numeric(df['price'], errors='coerce')"
   ]
  },
  {
   "cell_type": "code",
   "execution_count": 53,
   "metadata": {},
   "outputs": [],
   "source": [
    "df.to_csv('steam_games_cleaned.csv', index=False)\n",
    "df.to_json('steam_games_cleaned.json', orient='records', lines=True)\n",
    "df.to_parquet('steam_games_cleaned.parquet', index=False)"
   ]
  },
  {
   "cell_type": "markdown",
   "metadata": {},
   "source": [
    "### 'items.csv"
   ]
  },
  {
   "cell_type": "code",
   "execution_count": 27,
   "metadata": {},
   "outputs": [
    {
     "data": {
      "text/html": [
       "<div>\n",
       "<style scoped>\n",
       "    .dataframe tbody tr th:only-of-type {\n",
       "        vertical-align: middle;\n",
       "    }\n",
       "\n",
       "    .dataframe tbody tr th {\n",
       "        vertical-align: top;\n",
       "    }\n",
       "\n",
       "    .dataframe thead th {\n",
       "        text-align: right;\n",
       "    }\n",
       "</style>\n",
       "<table border=\"1\" class=\"dataframe\">\n",
       "  <thead>\n",
       "    <tr style=\"text-align: right;\">\n",
       "      <th></th>\n",
       "      <th>user_id</th>\n",
       "      <th>items_count</th>\n",
       "      <th>steam_id</th>\n",
       "      <th>user_url</th>\n",
       "      <th>items</th>\n",
       "    </tr>\n",
       "  </thead>\n",
       "  <tbody>\n",
       "    <tr>\n",
       "      <th>0</th>\n",
       "      <td>76561197970982479</td>\n",
       "      <td>277</td>\n",
       "      <td>76561197970982479</td>\n",
       "      <td>http://steamcommunity.com/profiles/76561197970...</td>\n",
       "      <td>[{'item_id': '10', 'item_name': 'Counter-Strik...</td>\n",
       "    </tr>\n",
       "    <tr>\n",
       "      <th>1</th>\n",
       "      <td>js41637</td>\n",
       "      <td>888</td>\n",
       "      <td>76561198035864385</td>\n",
       "      <td>http://steamcommunity.com/id/js41637</td>\n",
       "      <td>[{'item_id': '10', 'item_name': 'Counter-Strik...</td>\n",
       "    </tr>\n",
       "    <tr>\n",
       "      <th>2</th>\n",
       "      <td>evcentric</td>\n",
       "      <td>137</td>\n",
       "      <td>76561198007712555</td>\n",
       "      <td>http://steamcommunity.com/id/evcentric</td>\n",
       "      <td>[{'item_id': '1200', 'item_name': 'Red Orchest...</td>\n",
       "    </tr>\n",
       "    <tr>\n",
       "      <th>3</th>\n",
       "      <td>Riot-Punch</td>\n",
       "      <td>328</td>\n",
       "      <td>76561197963445855</td>\n",
       "      <td>http://steamcommunity.com/id/Riot-Punch</td>\n",
       "      <td>[{'item_id': '10', 'item_name': 'Counter-Strik...</td>\n",
       "    </tr>\n",
       "    <tr>\n",
       "      <th>4</th>\n",
       "      <td>doctr</td>\n",
       "      <td>541</td>\n",
       "      <td>76561198002099482</td>\n",
       "      <td>http://steamcommunity.com/id/doctr</td>\n",
       "      <td>[{'item_id': '300', 'item_name': 'Day of Defea...</td>\n",
       "    </tr>\n",
       "  </tbody>\n",
       "</table>\n",
       "</div>"
      ],
      "text/plain": [
       "             user_id  items_count           steam_id  \\\n",
       "0  76561197970982479          277  76561197970982479   \n",
       "1            js41637          888  76561198035864385   \n",
       "2          evcentric          137  76561198007712555   \n",
       "3         Riot-Punch          328  76561197963445855   \n",
       "4              doctr          541  76561198002099482   \n",
       "\n",
       "                                            user_url  \\\n",
       "0  http://steamcommunity.com/profiles/76561197970...   \n",
       "1               http://steamcommunity.com/id/js41637   \n",
       "2             http://steamcommunity.com/id/evcentric   \n",
       "3            http://steamcommunity.com/id/Riot-Punch   \n",
       "4                 http://steamcommunity.com/id/doctr   \n",
       "\n",
       "                                               items  \n",
       "0  [{'item_id': '10', 'item_name': 'Counter-Strik...  \n",
       "1  [{'item_id': '10', 'item_name': 'Counter-Strik...  \n",
       "2  [{'item_id': '1200', 'item_name': 'Red Orchest...  \n",
       "3  [{'item_id': '10', 'item_name': 'Counter-Strik...  \n",
       "4  [{'item_id': '300', 'item_name': 'Day of Defea...  "
      ]
     },
     "execution_count": 27,
     "metadata": {},
     "output_type": "execute_result"
    }
   ],
   "source": [
    "df = pd.read_csv(r'C:\\Users\\123la\\Documents\\GitHub\\ssss\\PI01_Steam_MLops\\data\\items.csv')\n",
    "df.head()"
   ]
  },
  {
   "cell_type": "code",
   "execution_count": 28,
   "metadata": {},
   "outputs": [
    {
     "name": "stdout",
     "output_type": "stream",
     "text": [
      "\n",
      "Estructura de la columna 'items':\n",
      "[{'item_id': '10', 'item_name': 'Counter-Strike', 'playtime_forever': 6, 'playtime_2weeks': 0}, {'item_id': '20', 'item_name': 'Team Fortress Classic', 'playtime_forever': 0, 'playtime_2weeks': 0}, {'item_id': '30', 'item_name': 'Day of Defeat', 'playtime_forever': 7, 'playtime_2weeks': 0}, {'item_id': '40', 'item_name': 'Deathmatch Classic', 'playtime_forever': 0, 'playtime_2weeks': 0}, {'item_id': '50', 'item_name': 'Half-Life: Opposing Force', 'playtime_forever': 0, 'playtime_2weeks': 0}, {'item_id': '60', 'item_name': 'Ricochet', 'playtime_forever': 0, 'playtime_2weeks': 0}, {'item_id': '70', 'item_name': 'Half-Life', 'playtime_forever': 0, 'playtime_2weeks': 0}, {'item_id': '130', 'item_name': 'Half-Life: Blue Shift', 'playtime_forever': 0, 'playtime_2weeks': 0}, {'item_id': '300', 'item_name': 'Day of Defeat: Source', 'playtime_forever': 4733, 'playtime_2weeks': 0}, {'item_id': '240', 'item_name': 'Counter-Strike: Source', 'playtime_forever': 1853, 'playtime_2weeks': 0}, {'item_id': '3830', 'item_name': 'Psychonauts', 'playtime_forever': 333, 'playtime_2weeks': 0}, {'item_id': '2630', 'item_name': 'Call of Duty 2', 'playtime_forever': 75, 'playtime_2weeks': 0}, {'item_id': '3900', 'item_name': \"Sid Meier's Civilization IV\", 'playtime_forever': 338, 'playtime_2weeks': 0}, {'item_id': '34440', 'item_name': \"Sid Meier's Civilization IV\", 'playtime_forever': 0, 'playtime_2weeks': 0}, {'item_id': '3920', 'item_name': \"Sid Meier's Pirates!\", 'playtime_forever': 2, 'playtime_2weeks': 0}, {'item_id': '6400', 'item_name': 'Joint Task Force', 'playtime_forever': 286, 'playtime_2weeks': 0}, {'item_id': '6910', 'item_name': 'Deus Ex: Game of the Year Edition', 'playtime_forever': 2685, 'playtime_2weeks': 0}, {'item_id': '7670', 'item_name': 'BioShock', 'playtime_forever': 633, 'playtime_2weeks': 0}, {'item_id': '409710', 'item_name': 'BioShock Remastered', 'playtime_forever': 0, 'playtime_2weeks': 0}, {'item_id': '220', 'item_name': 'Half-Life 2', 'playtime_forever': 696, 'playtime_2weeks': 0}, {'item_id': '320', 'item_name': 'Half-Life 2: Deathmatch', 'playtime_forever': 0, 'playtime_2weeks': 0}, {'item_id': '340', 'item_name': 'Half-Life 2: Lost Coast', 'playtime_forever': 37, 'playtime_2weeks': 0}, {'item_id': '360', 'item_name': 'Half-Life Deathmatch: Source', 'playtime_forever': 0, 'playtime_2weeks': 0}, {'item_id': '380', 'item_name': 'Half-Life 2: Episode One', 'playtime_forever': 168, 'playtime_2weeks': 0}, {'item_id': '400', 'item_name': 'Portal', 'playtime_forever': 173, 'playtime_2weeks': 0}, {'item_id': '420', 'item_name': 'Half-Life 2: Episode Two', 'playtime_forever': 323, 'playtime_2weeks': 0}, {'item_id': '9340', 'item_name': 'Company of Heroes: Opposing Fronts', 'playtime_forever': 692, 'playtime_2weeks': 0}, {'item_id': '228200', 'item_name': 'Company of Heroes (New Steam Version)', 'playtime_forever': 0, 'playtime_2weeks': 0}, {'item_id': '11450', 'item_name': 'Overlord', 'playtime_forever': 0, 'playtime_2weeks': 0}, {'item_id': '7940', 'item_name': 'Call of Duty 4: Modern Warfare', 'playtime_forever': 1185, 'playtime_2weeks': 0}, {'item_id': '4700', 'item_name': 'Medieval II: Total War', 'playtime_forever': 477, 'playtime_2weeks': 0}, {'item_id': '12900', 'item_name': 'Audiosurf', 'playtime_forever': 115, 'playtime_2weeks': 0}, {'item_id': '13250', 'item_name': 'Unreal Gold', 'playtime_forever': 0, 'playtime_2weeks': 0}, {'item_id': '16100', 'item_name': 'Virtual Villagers: A New Home', 'playtime_forever': 0, 'playtime_2weeks': 0}, {'item_id': '15700', 'item_name': \"Oddworld: Abe's Oddysee\", 'playtime_forever': 28, 'playtime_2weeks': 0}, {'item_id': '15710', 'item_name': \"Oddworld: Abe's Exoddus\", 'playtime_forever': 0, 'playtime_2weeks': 0}, {'item_id': '17330', 'item_name': 'Crysis Warhead', 'playtime_forever': 31, 'playtime_2weeks': 0}, {'item_id': '17340', 'item_name': 'Crysis Wars', 'playtime_forever': 0, 'playtime_2weeks': 0}, {'item_id': '22000', 'item_name': 'World of Goo', 'playtime_forever': 195, 'playtime_2weeks': 0}, {'item_id': '500', 'item_name': 'Left 4 Dead', 'playtime_forever': 513, 'playtime_2weeks': 0}, {'item_id': '4560', 'item_name': 'Company of Heroes', 'playtime_forever': 1061, 'playtime_2weeks': 0}, {'item_id': '17460', 'item_name': 'Mass Effect', 'playtime_forever': 1613, 'playtime_2weeks': 0}, {'item_id': '10500', 'item_name': 'Empire: Total War', 'playtime_forever': 186, 'playtime_2weeks': 0}, {'item_id': '24740', 'item_name': 'Burnout Paradise: The Ultimate Box', 'playtime_forever': 0, 'playtime_2weeks': 0}, {'item_id': '22200', 'item_name': 'Zeno Clash', 'playtime_forever': 271, 'playtime_2weeks': 0}, {'item_id': '26800', 'item_name': 'Braid', 'playtime_forever': 445, 'playtime_2weeks': 0}, {'item_id': '1250', 'item_name': 'Killing Floor', 'playtime_forever': 10006, 'playtime_2weeks': 0}, {'item_id': '35420', 'item_name': 'Killing Floor Mod: Defence Alliance 2', 'playtime_forever': 0, 'playtime_2weeks': 0}, {'item_id': '3590', 'item_name': 'Plants vs. Zombies: Game of the Year', 'playtime_forever': 4413, 'playtime_2weeks': 0}, {'item_id': '8880', 'item_name': 'Freedom Force', 'playtime_forever': 0, 'playtime_2weeks': 0}, {'item_id': '8890', 'item_name': 'Freedom Force vs. the 3rd Reich', 'playtime_forever': 0, 'playtime_2weeks': 0}, {'item_id': '23120', 'item_name': 'Droplitz', 'playtime_forever': 53, 'playtime_2weeks': 0}, {'item_id': '35700', 'item_name': 'Trine', 'playtime_forever': 199, 'playtime_2weeks': 0}, {'item_id': '10140', 'item_name': '3D Ultra Minigolf Adventures Deluxe', 'playtime_forever': 25, 'playtime_2weeks': 0}, {'item_id': '35010', 'item_name': 'Batman: Arkham Asylum', 'playtime_forever': 570, 'playtime_2weeks': 0}, {'item_id': '35140', 'item_name': 'Batman: Arkham Asylum GOTY Edition', 'playtime_forever': 0, 'playtime_2weeks': 0}, {'item_id': '29180', 'item_name': 'Osmos', 'playtime_forever': 940, 'playtime_2weeks': 0}, {'item_id': '15520', 'item_name': 'AaAaAA!!! - A Reckless Disregard for Gravity', 'playtime_forever': 110, 'playtime_2weeks': 0}, {'item_id': '32370', 'item_name': 'STAR WARS™: Knights of the Old Republic™', 'playtime_forever': 5, 'playtime_2weeks': 0}, {'item_id': '37700', 'item_name': 'Darkest of Days', 'playtime_forever': 782, 'playtime_2weeks': 0}, {'item_id': '6020', 'item_name': 'STAR WARS™ Jedi Knight: Jedi Academy™', 'playtime_forever': 77, 'playtime_2weeks': 0}, {'item_id': '24860', 'item_name': 'Battlefield 2', 'playtime_forever': 437, 'playtime_2weeks': 0}, {'item_id': '39530', 'item_name': 'Painkiller: Black Edition', 'playtime_forever': 503, 'playtime_2weeks': 0}, {'item_id': '550', 'item_name': 'Left 4 Dead 2', 'playtime_forever': 1474, 'playtime_2weeks': 0}, {'item_id': '223530', 'item_name': 'Left 4 Dead 2 Beta', 'playtime_forever': 0, 'playtime_2weeks': 0}, {'item_id': '8980', 'item_name': 'Borderlands', 'playtime_forever': 3061, 'playtime_2weeks': 0}, {'item_id': '41500', 'item_name': 'Torchlight', 'playtime_forever': 536, 'playtime_2weeks': 0}, {'item_id': '20900', 'item_name': 'The Witcher: Enhanced Edition', 'playtime_forever': 139, 'playtime_2weeks': 0}, {'item_id': '10180', 'item_name': 'Call of Duty: Modern Warfare 2', 'playtime_forever': 1886, 'playtime_2weeks': 0}, {'item_id': '10190', 'item_name': 'Call of Duty: Modern Warfare 2 - Multiplayer', 'playtime_forever': 1784, 'playtime_2weeks': 0}, {'item_id': '17450', 'item_name': 'Dragon Age: Origins', 'playtime_forever': 4431, 'playtime_2weeks': 0}, {'item_id': '3170', 'item_name': \"King's Bounty: Armored Princess\", 'playtime_forever': 1021, 'playtime_2weeks': 0}, {'item_id': '25900', 'item_name': \"King's Bounty: The Legend\", 'playtime_forever': 1389, 'playtime_2weeks': 0}, {'item_id': '31410', 'item_name': 'Zombie Driver', 'playtime_forever': 95, 'playtime_2weeks': 0}, {'item_id': '24980', 'item_name': 'Mass Effect 2', 'playtime_forever': 5001, 'playtime_2weeks': 0}, {'item_id': '8850', 'item_name': 'BioShock 2', 'playtime_forever': 1504, 'playtime_2weeks': 0}, {'item_id': '409720', 'item_name': 'BioShock 2 Remastered', 'playtime_forever': 0, 'playtime_2weeks': 0}, {'item_id': '46000', 'item_name': 'Bob Came in Pieces', 'playtime_forever': 11, 'playtime_2weeks': 0}, {'item_id': '33230', 'item_name': \"Assassin's Creed II\", 'playtime_forever': 1636, 'playtime_2weeks': 0}, {'item_id': '20820', 'item_name': 'Shatter', 'playtime_forever': 46, 'playtime_2weeks': 0}, {'item_id': '47700', 'item_name': 'Command and Conquer 4: Tiberian Twilight', 'playtime_forever': 85, 'playtime_2weeks': 0}, {'item_id': '24960', 'item_name': 'Battlefield: Bad Company 2', 'playtime_forever': 5716, 'playtime_2weeks': 0}, {'item_id': '43110', 'item_name': 'Metro 2033', 'playtime_forever': 834, 'playtime_2weeks': 0}, {'item_id': '8190', 'item_name': 'Just Cause 2', 'playtime_forever': 3083, 'playtime_2weeks': 0}, {'item_id': '49600', 'item_name': 'Beat Hazard', 'playtime_forever': 127, 'playtime_2weeks': 0}, {'item_id': '31220', 'item_name': 'Sam & Max 301: The Penal Zone', 'playtime_forever': 71, 'playtime_2weeks': 0}, {'item_id': '31230', 'item_name': 'Sam & Max 302: The Tomb of Sammun-Mak', 'playtime_forever': 0, 'playtime_2weeks': 0}, {'item_id': '31240', 'item_name': \"Sam & Max 303: They Stole Max's Brain!\", 'playtime_forever': 0, 'playtime_2weeks': 0}, {'item_id': '31250', 'item_name': 'Sam & Max 304: Beyond the Alley of the Dolls', 'playtime_forever': 0, 'playtime_2weeks': 0}, {'item_id': '31260', 'item_name': 'Sam & Max 305: The City that Dares not Sleep', 'playtime_forever': 0, 'playtime_2weeks': 0}, {'item_id': '21090', 'item_name': 'F.E.A.R.', 'playtime_forever': 585, 'playtime_2weeks': 0}, {'item_id': '21110', 'item_name': 'F.E.A.R.: Extraction Point', 'playtime_forever': 146, 'playtime_2weeks': 0}, {'item_id': '21120', 'item_name': 'F.E.A.R.: Perseus Mandate', 'playtime_forever': 0, 'playtime_2weeks': 0}, {'item_id': '49400', 'item_name': 'Magic: The Gathering - Duels of the Planeswalkers', 'playtime_forever': 32, 'playtime_2weeks': 0}, {'item_id': '33910', 'item_name': 'Arma 2', 'playtime_forever': 3, 'playtime_2weeks': 0}, {'item_id': '33930', 'item_name': 'Arma 2: Operation Arrowhead', 'playtime_forever': 3, 'playtime_2weeks': 0}, {'item_id': '219540', 'item_name': 'Arma 2: Operation Arrowhead Beta (Obsolete)', 'playtime_forever': 0, 'playtime_2weeks': 0}, {'item_id': '17410', 'item_name': \"Mirror's Edge\", 'playtime_forever': 0, 'playtime_2weeks': 0}, {'item_id': '205790', 'item_name': 'Dota 2 Test', 'playtime_forever': 0, 'playtime_2weeks': 0}, {'item_id': '50130', 'item_name': 'Mafia II', 'playtime_forever': 707, 'playtime_2weeks': 0}, {'item_id': '62100', 'item_name': 'Chime', 'playtime_forever': 50, 'playtime_2weeks': 0}, {'item_id': '31280', 'item_name': 'Poker Night at the Inventory', 'playtime_forever': 206, 'playtime_2weeks': 0}, {'item_id': '57300', 'item_name': 'Amnesia: The Dark Descent', 'playtime_forever': 12, 'playtime_2weeks': 0}, {'item_id': '21970', 'item_name': 'R.U.S.E', 'playtime_forever': 64, 'playtime_2weeks': 0}, {'item_id': '8930', 'item_name': \"Sid Meier's Civilization V\", 'playtime_forever': 10345, 'playtime_2weeks': 0}, {'item_id': '41000', 'item_name': 'Serious Sam HD: The First Encounter', 'playtime_forever': 369, 'playtime_2weeks': 0}, {'item_id': '41050', 'item_name': 'Serious Sam Classic: The First Encounter', 'playtime_forever': 76, 'playtime_2weeks': 0}, {'item_id': '41060', 'item_name': 'Serious Sam Classic: The Second Encounter', 'playtime_forever': 0, 'playtime_2weeks': 0}, {'item_id': '227780', 'item_name': 'Serious Sam Classics: Revolution', 'playtime_forever': 0, 'playtime_2weeks': 0}, {'item_id': '18040', 'item_name': 'DeathSpank', 'playtime_forever': 594, 'playtime_2weeks': 0}, {'item_id': '22380', 'item_name': 'Fallout: New Vegas', 'playtime_forever': 43, 'playtime_2weeks': 0}, {'item_id': '42700', 'item_name': 'Call of Duty: Black Ops', 'playtime_forever': 966, 'playtime_2weeks': 0}, {'item_id': '42710', 'item_name': 'Call of Duty: Black Ops - Multiplayer', 'playtime_forever': 2452, 'playtime_2weeks': 0}, {'item_id': '62000', 'item_name': 'Flight Control HD', 'playtime_forever': 25, 'playtime_2weeks': 0}, {'item_id': '40800', 'item_name': 'Super Meat Boy', 'playtime_forever': 119, 'playtime_2weeks': 0}, {'item_id': '9500', 'item_name': 'Gish', 'playtime_forever': 6, 'playtime_2weeks': 0}, {'item_id': '18700', 'item_name': 'And Yet It Moves', 'playtime_forever': 0, 'playtime_2weeks': 0}, {'item_id': '31270', 'item_name': 'Puzzle Agent', 'playtime_forever': 0, 'playtime_2weeks': 0}, {'item_id': '58200', 'item_name': 'Jolly Rover', 'playtime_forever': 0, 'playtime_2weeks': 0}, {'item_id': '70400', 'item_name': \"Recettear: An Item Shop's Tale\", 'playtime_forever': 537, 'playtime_2weeks': 0}, {'item_id': '41300', 'item_name': 'Altitude', 'playtime_forever': 50, 'playtime_2weeks': 0}, {'item_id': '41800', 'item_name': 'Gratuitous Space Battles', 'playtime_forever': 149, 'playtime_2weeks': 0}, {'item_id': '42500', 'item_name': 'DogFighter', 'playtime_forever': 0, 'playtime_2weeks': 0}, {'item_id': '49900', 'item_name': 'Plain Sight', 'playtime_forever': 23, 'playtime_2weeks': 0}, {'item_id': '55000', 'item_name': 'Flotilla', 'playtime_forever': 0, 'playtime_2weeks': 0}, {'item_id': '34330', 'item_name': 'Total War: SHOGUN 2', 'playtime_forever': 1538, 'playtime_2weeks': 0}, {'item_id': '63200', 'item_name': 'Monday Night Combat', 'playtime_forever': 573, 'playtime_2weeks': 0}, {'item_id': '99810', 'item_name': 'Bulletstorm', 'playtime_forever': 2, 'playtime_2weeks': 0}, {'item_id': '620', 'item_name': 'Portal 2', 'playtime_forever': 887, 'playtime_2weeks': 0}, {'item_id': '42910', 'item_name': 'Magicka', 'playtime_forever': 588, 'playtime_2weeks': 0}, {'item_id': '15500', 'item_name': 'The Wonderful End of the World', 'playtime_forever': 0, 'playtime_2weeks': 0}, {'item_id': '15540', 'item_name': '1... 2... 3... KICK IT! (Drop That Beat Like an Ugly Baby)', 'playtime_forever': 4, 'playtime_2weeks': 0}, {'item_id': '18500', 'item_name': 'Defense Grid: The Awakening', 'playtime_forever': 126, 'playtime_2weeks': 0}, {'item_id': '26500', 'item_name': 'Cogs', 'playtime_forever': 0, 'playtime_2weeks': 0}, {'item_id': '35460', 'item_name': 'The Ball', 'playtime_forever': 0, 'playtime_2weeks': 0}, {'item_id': '38700', 'item_name': 'Toki Tori', 'playtime_forever': 0, 'playtime_2weeks': 0}, {'item_id': '38720', 'item_name': 'RUSH', 'playtime_forever': 0, 'playtime_2weeks': 0}, {'item_id': '63700', 'item_name': 'BIT.TRIP BEAT', 'playtime_forever': 0, 'playtime_2weeks': 0}, {'item_id': '280', 'item_name': 'Half-Life: Source', 'playtime_forever': 0, 'playtime_2weeks': 0}, {'item_id': '20920', 'item_name': 'The Witcher 2: Assassins of Kings Enhanced Edition', 'playtime_forever': 1343, 'playtime_2weeks': 0}, {'item_id': '105600', 'item_name': 'Terraria', 'playtime_forever': 772, 'playtime_2weeks': 0}, {'item_id': '98200', 'item_name': 'Frozen Synapse', 'playtime_forever': 9, 'playtime_2weeks': 0}, {'item_id': '4500', 'item_name': 'S.T.A.L.K.E.R.: Shadow of Chernobyl', 'playtime_forever': 0, 'playtime_2weeks': 0}, {'item_id': '4540', 'item_name': 'Titan Quest', 'playtime_forever': 3, 'playtime_2weeks': 0}, {'item_id': '4550', 'item_name': 'Titan Quest: Immortal Throne', 'playtime_forever': 76, 'playtime_2weeks': 0}, {'item_id': '9480', 'item_name': 'Saints Row 2', 'playtime_forever': 0, 'playtime_2weeks': 0}, {'item_id': '15620', 'item_name': 'Warhammer® 40,000™: Dawn of War® II', 'playtime_forever': 2085, 'playtime_2weeks': 0}, {'item_id': '20500', 'item_name': 'Red Faction: Guerrilla Steam Edition', 'playtime_forever': 0, 'playtime_2weeks': 0}, {'item_id': '20570', 'item_name': 'Warhammer® 40,000™: Dawn of War® II - Chaos Rising™', 'playtime_forever': 69, 'playtime_2weeks': 0}, {'item_id': '50620', 'item_name': 'Darksiders', 'playtime_forever': 101, 'playtime_2weeks': 0}, {'item_id': '55100', 'item_name': 'Homefront', 'playtime_forever': 51, 'playtime_2weeks': 0}, {'item_id': '55140', 'item_name': 'MX vs. ATV Reflex', 'playtime_forever': 0, 'playtime_2weeks': 0}, {'item_id': '56400', 'item_name': 'Warhammer® 40,000™: Dawn of War® II – Retribution™', 'playtime_forever': 678, 'playtime_2weeks': 0}, {'item_id': '475150', 'item_name': 'Titan Quest Anniversary Edition', 'playtime_forever': 0, 'playtime_2weeks': 0}, {'item_id': '96100', 'item_name': 'Defy Gravity', 'playtime_forever': 9, 'playtime_2weeks': 0}, {'item_id': '35450', 'item_name': 'Rising Storm/Red Orchestra 2 Multiplayer', 'playtime_forever': 14194, 'playtime_2weeks': 0}, {'item_id': '236830', 'item_name': 'Red Orchestra 2: Heroes of Stalingrad - Single Player', 'playtime_forever': 0, 'playtime_2weeks': 0}, {'item_id': '72850', 'item_name': 'The Elder Scrolls V: Skyrim', 'playtime_forever': 2512, 'playtime_2weeks': 0}, {'item_id': '107100', 'item_name': 'Bastion', 'playtime_forever': 640, 'playtime_2weeks': 0}, {'item_id': '57690', 'item_name': 'Tropico 4', 'playtime_forever': 1815, 'playtime_2weeks': 0}, {'item_id': '91310', 'item_name': 'Dead Island', 'playtime_forever': 2078, 'playtime_2weeks': 0}, {'item_id': '113200', 'item_name': 'The Binding of Isaac', 'playtime_forever': 1494, 'playtime_2weeks': 0}, {'item_id': '65800', 'item_name': 'Dungeon Defenders', 'playtime_forever': 130, 'playtime_2weeks': 0}, {'item_id': '9200', 'item_name': 'RAGE', 'playtime_forever': 653, 'playtime_2weeks': 0}, {'item_id': '41070', 'item_name': 'Serious Sam 3: BFE', 'playtime_forever': 716, 'playtime_2weeks': 0}, {'item_id': '48950', 'item_name': 'Greed Corp', 'playtime_forever': 72, 'playtime_2weeks': 0}, {'item_id': '92800', 'item_name': 'SpaceChem', 'playtime_forever': 262, 'playtime_2weeks': 0}, {'item_id': '104700', 'item_name': 'Super Monday Night Combat', 'playtime_forever': 44, 'playtime_2weeks': 0}, {'item_id': '203770', 'item_name': 'Crusader Kings II', 'playtime_forever': 18, 'playtime_2weeks': 0}, {'item_id': '203810', 'item_name': 'Dear Esther', 'playtime_forever': 86, 'playtime_2weeks': 0}, {'item_id': '110800', 'item_name': 'L.A. Noire', 'playtime_forever': 1204, 'playtime_2weeks': 0}, {'item_id': '207610', 'item_name': 'The Walking Dead', 'playtime_forever': 798, 'playtime_2weeks': 0}, {'item_id': '98300', 'item_name': 'Toy Soldiers', 'playtime_forever': 110, 'playtime_2weeks': 0}, {'item_id': '50300', 'item_name': 'Spec Ops: The Line', 'playtime_forever': 296, 'playtime_2weeks': 0}, {'item_id': '204300', 'item_name': 'Awesomenauts', 'playtime_forever': 0, 'playtime_2weeks': 0}, {'item_id': '1700', 'item_name': 'Arx Fatalis', 'playtime_forever': 0, 'playtime_2weeks': 0}, {'item_id': '205100', 'item_name': 'Dishonored', 'playtime_forever': 1429, 'playtime_2weeks': 0}, {'item_id': '211120', 'item_name': 'The Political Machine', 'playtime_forever': 1, 'playtime_2weeks': 0}, {'item_id': '730', 'item_name': 'Counter-Strike: Global Offensive', 'playtime_forever': 23532, 'playtime_2weeks': 0}, {'item_id': '49520', 'item_name': 'Borderlands 2', 'playtime_forever': 1303, 'playtime_2weeks': 0}, {'item_id': '200260', 'item_name': 'Batman: Arkham City GOTY', 'playtime_forever': 100, 'playtime_2weeks': 0}, {'item_id': '212680', 'item_name': 'FTL: Faster Than Light', 'playtime_forever': 500, 'playtime_2weeks': 0}, {'item_id': '200710', 'item_name': 'Torchlight II', 'playtime_forever': 459, 'playtime_2weeks': 0}, {'item_id': '219150', 'item_name': 'Hotline Miami', 'playtime_forever': 0, 'playtime_2weeks': 0}, {'item_id': '215510', 'item_name': 'Rocketbirds: Hardboiled Chicken', 'playtime_forever': 0, 'playtime_2weeks': 0}, {'item_id': '8870', 'item_name': 'BioShock Infinite', 'playtime_forever': 2084, 'playtime_2weeks': 0}, {'item_id': '200510', 'item_name': 'XCOM: Enemy Unknown', 'playtime_forever': 3478, 'playtime_2weeks': 0}, {'item_id': '220240', 'item_name': 'Far Cry® 3', 'playtime_forever': 182, 'playtime_2weeks': 0}, {'item_id': '218680', 'item_name': 'Scribblenauts Unlimited', 'playtime_forever': 0, 'playtime_2weeks': 0}, {'item_id': '228280', 'item_name': \"Baldur's Gate: Enhanced Edition\", 'playtime_forever': 905, 'playtime_2weeks': 0}, {'item_id': '212070', 'item_name': 'Star Conflict', 'playtime_forever': 0, 'playtime_2weeks': 0}, {'item_id': '218230', 'item_name': 'PlanetSide 2', 'playtime_forever': 51, 'playtime_2weeks': 0}, {'item_id': '236390', 'item_name': 'War Thunder', 'playtime_forever': 50, 'playtime_2weeks': 0}, {'item_id': '3483', 'item_name': 'Peggle Extreme', 'playtime_forever': 0, 'playtime_2weeks': 0}, {'item_id': '203160', 'item_name': 'Tomb Raider', 'playtime_forever': 0, 'playtime_2weeks': 0}, {'item_id': '227080', 'item_name': 'Papo & Yo', 'playtime_forever': 81, 'playtime_2weeks': 0}, {'item_id': '233450', 'item_name': 'Prison Architect', 'playtime_forever': 24, 'playtime_2weeks': 0}, {'item_id': '43160', 'item_name': 'Metro: Last Light', 'playtime_forever': 712, 'playtime_2weeks': 0}, {'item_id': '219740', 'item_name': \"Don't Starve\", 'playtime_forever': 139, 'playtime_2weeks': 0}, {'item_id': '322330', 'item_name': \"Don't Starve Together\", 'playtime_forever': 0, 'playtime_2weeks': 0}, {'item_id': '222730', 'item_name': 'Reus', 'playtime_forever': 319, 'playtime_2weeks': 0}, {'item_id': '241600', 'item_name': 'Rogue Legacy', 'playtime_forever': 73, 'playtime_2weeks': 0}, {'item_id': '238930', 'item_name': '7 Grand Steps, Step 1: What Ancients Begat', 'playtime_forever': 159, 'playtime_2weeks': 0}, {'item_id': '217140', 'item_name': 'Rise of the Triad', 'playtime_forever': 199, 'playtime_2weeks': 0}, {'item_id': '39140', 'item_name': 'FINAL FANTASY VII', 'playtime_forever': 2896, 'playtime_2weeks': 0}, {'item_id': '225080', 'item_name': 'Brothers - A Tale of Two Sons', 'playtime_forever': 0, 'playtime_2weeks': 0}, {'item_id': '239030', 'item_name': 'Papers, Please', 'playtime_forever': 194, 'playtime_2weeks': 0}, {'item_id': '248820', 'item_name': 'Risk of Rain', 'playtime_forever': 272, 'playtime_2weeks': 0}, {'item_id': '239350', 'item_name': 'Spelunky', 'playtime_forever': 458, 'playtime_2weeks': 0}, {'item_id': '218620', 'item_name': 'PAYDAY 2', 'playtime_forever': 574, 'playtime_2weeks': 0}, {'item_id': '206420', 'item_name': 'Saints Row IV', 'playtime_forever': 0, 'playtime_2weeks': 0}, {'item_id': '236850', 'item_name': 'Europa Universalis IV', 'playtime_forever': 89, 'playtime_2weeks': 0}, {'item_id': '47790', 'item_name': 'Medal of Honor(TM) Single Player', 'playtime_forever': 230, 'playtime_2weeks': 0}, {'item_id': '47830', 'item_name': 'Medal of Honor(TM) Multiplayer', 'playtime_forever': 0, 'playtime_2weeks': 0}, {'item_id': '250320', 'item_name': 'The Wolf Among Us', 'playtime_forever': 500, 'playtime_2weeks': 0}, {'item_id': '250900', 'item_name': 'The Binding of Isaac: Rebirth', 'playtime_forever': 329, 'playtime_2weeks': 0}, {'item_id': '204450', 'item_name': 'Call of Juarez Gunslinger', 'playtime_forever': 241, 'playtime_2weeks': 0}, {'item_id': '233270', 'item_name': 'Far Cry® 3 Blood Dragon', 'playtime_forever': 0, 'playtime_2weeks': 0}, {'item_id': '251990', 'item_name': 'Long Live The Queen', 'playtime_forever': 135, 'playtime_2weeks': 0}, {'item_id': '253980', 'item_name': 'Enclave', 'playtime_forever': 0, 'playtime_2weeks': 0}, {'item_id': '236450', 'item_name': 'PAC-MAN Championship Edition DX+', 'playtime_forever': 154, 'playtime_2weeks': 0}, {'item_id': '242050', 'item_name': \"Assassin's Creed IV Black Flag\", 'playtime_forever': 1377, 'playtime_2weeks': 0}, {'item_id': '257350', 'item_name': \"Baldur's Gate II: Enhanced Edition\", 'playtime_forever': 0, 'playtime_2weeks': 0}, {'item_id': '213670', 'item_name': 'South Park™: The Stick of Truth™', 'playtime_forever': 121, 'playtime_2weeks': 0}, {'item_id': '238010', 'item_name': \"Deus Ex: Human Revolution - Director's Cut\", 'playtime_forever': 2176, 'playtime_2weeks': 0}, {'item_id': '245470', 'item_name': 'Democracy 3', 'playtime_forever': 246, 'playtime_2weeks': 0}, {'item_id': '221910', 'item_name': 'The Stanley Parable', 'playtime_forever': 157, 'playtime_2weeks': 0}, {'item_id': '260230', 'item_name': 'Valiant Hearts: The Great War™ / Soldats Inconnus : Mémoires de la Grande Guerre™', 'playtime_forever': 467, 'playtime_2weeks': 0}, {'item_id': '238430', 'item_name': 'Contagion', 'playtime_forever': 77, 'playtime_2weeks': 0}, {'item_id': '261030', 'item_name': 'The Walking Dead: Season Two', 'playtime_forever': 567, 'playtime_2weeks': 0}, {'item_id': '261570', 'item_name': 'Ori and the Blind Forest', 'playtime_forever': 39, 'playtime_2weeks': 0}, {'item_id': '263980', 'item_name': 'Out There Somewhere', 'playtime_forever': 0, 'playtime_2weeks': 0}, {'item_id': '39150', 'item_name': 'FINAL FANTASY VIII', 'playtime_forever': 15, 'playtime_2weeks': 0}, {'item_id': '230230', 'item_name': 'Divinity: Original Sin (Classic)', 'playtime_forever': 522, 'playtime_2weeks': 0}, {'item_id': '373420', 'item_name': 'Divinity: Original Sin Enhanced Edition', 'playtime_forever': 0, 'playtime_2weeks': 0}, {'item_id': '232790', 'item_name': 'Broken Age', 'playtime_forever': 216, 'playtime_2weeks': 0}, {'item_id': '237990', 'item_name': 'The Banner Saga', 'playtime_forever': 19, 'playtime_2weeks': 0}, {'item_id': '273620', 'item_name': 'Freespace 2', 'playtime_forever': 848, 'playtime_2weeks': 0}, {'item_id': '222880', 'item_name': 'Insurgency', 'playtime_forever': 3031, 'playtime_2weeks': 0}, {'item_id': '225840', 'item_name': 'Sven Co-op', 'playtime_forever': 26, 'playtime_2weeks': 0}, {'item_id': '222900', 'item_name': 'Dead Island: Epidemic', 'playtime_forever': 0, 'playtime_2weeks': 0}, {'item_id': '280220', 'item_name': 'Creeper World 3: Arc Eternal', 'playtime_forever': 941, 'playtime_2weeks': 0}, {'item_id': '236430', 'item_name': 'DARK SOULS™ II', 'playtime_forever': 592, 'playtime_2weeks': 0}, {'item_id': '201810', 'item_name': 'Wolfenstein: The New Order', 'playtime_forever': 599, 'playtime_2weeks': 0}, {'item_id': '294860', 'item_name': 'Valkyria Chronicles™', 'playtime_forever': 1735, 'playtime_2weeks': 0}, {'item_id': '295690', 'item_name': 'PARTICLE MACE', 'playtime_forever': 0, 'playtime_2weeks': 0}, {'item_id': '238460', 'item_name': 'BattleBlock Theater', 'playtime_forever': 407, 'playtime_2weeks': 0}, {'item_id': '237930', 'item_name': 'Transistor', 'playtime_forever': 154, 'playtime_2weeks': 0}, {'item_id': '301480', 'item_name': 'GEARCRACK Arena', 'playtime_forever': 0, 'playtime_2weeks': 0}, {'item_id': '303390', 'item_name': 'Dead Bits', 'playtime_forever': 0, 'playtime_2weeks': 0}, {'item_id': '306660', 'item_name': 'Ultimate General: Gettysburg', 'playtime_forever': 1245, 'playtime_2weeks': 0}, {'item_id': '316790', 'item_name': 'Grim Fandango Remastered', 'playtime_forever': 42, 'playtime_2weeks': 0}, {'item_id': '318430', 'item_name': 'Squishy the Suicidal Pig', 'playtime_forever': 0, 'playtime_2weeks': 0}, {'item_id': '241930', 'item_name': 'Middle-earth: Shadow of Mordor', 'playtime_forever': 889, 'playtime_2weeks': 0}, {'item_id': '328080', 'item_name': 'Retro-Pixel Castles', 'playtime_forever': 5, 'playtime_2weeks': 0}, {'item_id': '282070', 'item_name': 'This War of Mine', 'playtime_forever': 3, 'playtime_2weeks': 0}, {'item_id': '333930', 'item_name': 'Dirty Bomb', 'playtime_forever': 2782, 'playtime_2weeks': 0}, {'item_id': '334120', 'item_name': 'Armikrog', 'playtime_forever': 109, 'playtime_2weeks': 0}, {'item_id': '257510', 'item_name': 'The Talos Principle', 'playtime_forever': 0, 'playtime_2weeks': 0}, {'item_id': '319630', 'item_name': 'Life Is Strange™', 'playtime_forever': 37, 'playtime_2weeks': 0}, {'item_id': '346010', 'item_name': 'Besiege', 'playtime_forever': 464, 'playtime_2weeks': 0}, {'item_id': '255710', 'item_name': 'Cities: Skylines', 'playtime_forever': 246, 'playtime_2weeks': 0}, {'item_id': '232090', 'item_name': 'Killing Floor 2', 'playtime_forever': 6494, 'playtime_2weeks': 0}, {'item_id': '232150', 'item_name': 'Killing Floor 2 - SDK', 'playtime_forever': 0, 'playtime_2weeks': 0}, {'item_id': '377160', 'item_name': 'Fallout 4', 'playtime_forever': 2001, 'playtime_2weeks': 0}, {'item_id': '340170', 'item_name': 'FINAL FANTASY TYPE-0 HD', 'playtime_forever': 170, 'playtime_2weeks': 0}, {'item_id': '391540', 'item_name': 'Undertale', 'playtime_forever': 395, 'playtime_2weeks': 0}, {'item_id': '396660', 'item_name': 'Tahira: Echoes of the Astral Empire', 'playtime_forever': 0, 'playtime_2weeks': 0}, {'item_id': '337000', 'item_name': 'Deus Ex: Mankind Divided™', 'playtime_forever': 1159, 'playtime_2weeks': 0}, {'item_id': '368230', 'item_name': 'Kingdom: Classic', 'playtime_forever': 83, 'playtime_2weeks': 0}, {'item_id': '496300', 'item_name': 'Kingdom: New Lands', 'playtime_forever': 0, 'playtime_2weeks': 0}, {'item_id': '231430', 'item_name': 'Company of Heroes 2', 'playtime_forever': 0, 'playtime_2weeks': 0}, {'item_id': '289130', 'item_name': 'Endless Legend', 'playtime_forever': 593, 'playtime_2weeks': 0}, {'item_id': '268500', 'item_name': 'XCOM 2', 'playtime_forever': 1495, 'playtime_2weeks': 0}, {'item_id': '461640', 'item_name': 'Sins Of The Demon RPG', 'playtime_forever': 0, 'playtime_2weeks': 0}, {'item_id': '379720', 'item_name': 'DOOM', 'playtime_forever': 793, 'playtime_2weeks': 0}, {'item_id': '273350', 'item_name': 'Evolve Stage 2', 'playtime_forever': 58, 'playtime_2weeks': 0}]\n"
     ]
    }
   ],
   "source": [
    "print(\"\\nEstructura de la columna 'items':\")\n",
    "print(df['items'].iloc[0])"
   ]
  },
  {
   "cell_type": "code",
   "execution_count": 30,
   "metadata": {},
   "outputs": [
    {
     "name": "stdout",
     "output_type": "stream",
     "text": [
      "object\n"
     ]
    }
   ],
   "source": [
    "print(df['items'].dtype)"
   ]
  },
  {
   "cell_type": "markdown",
   "metadata": {},
   "source": [
    "### Datos de la Columna \"items\"\n",
    "\n",
    "- **item_id**: El identificador único del ítem.\n",
    "- **item_name**: El nombre del ítem.\n",
    "- **playtime_forever**: El tiempo total de juego (en minutos) del usuario para este ítem.\n",
    "- **playtime_2weeks**: El tiempo de juego (en minutos) del usuario en las últimas dos semanas para este ítem.\n",
    "\n",
    "\"items\" parece ser una lista de diccionarios en formato json, se procede a desarmar y agregar cada diccionario como columna al df principal"
   ]
  },
  {
   "cell_type": "code",
   "execution_count": 33,
   "metadata": {},
   "outputs": [],
   "source": [
    "# Suponiendo que 'items' es la columna que contiene las listas de diccionarios como cadenas\n",
    "for index, row in df.iterrows():\n",
    "    # Convertir la cadena que representa el diccionario en un diccionario real\n",
    "    item_list = ast.literal_eval(row['items'])\n",
    "    # Iterar sobre cada diccionario en la lista\n",
    "    for item_dict in item_list:\n",
    "        # Iterar sobre cada par clave-valor en el diccionario\n",
    "        for key, value in item_dict.items():\n",
    "            # Agregar las claves del diccionario como columnas\n",
    "            df.at[index, key] = value\n",
    "\n",
    "# Eliminar la columna 'items' original si ya no se necesita\n",
    "df.drop(columns=['items'], inplace=True)"
   ]
  },
  {
   "cell_type": "code",
   "execution_count": 34,
   "metadata": {},
   "outputs": [
    {
     "data": {
      "text/html": [
       "<div>\n",
       "<style scoped>\n",
       "    .dataframe tbody tr th:only-of-type {\n",
       "        vertical-align: middle;\n",
       "    }\n",
       "\n",
       "    .dataframe tbody tr th {\n",
       "        vertical-align: top;\n",
       "    }\n",
       "\n",
       "    .dataframe thead th {\n",
       "        text-align: right;\n",
       "    }\n",
       "</style>\n",
       "<table border=\"1\" class=\"dataframe\">\n",
       "  <thead>\n",
       "    <tr style=\"text-align: right;\">\n",
       "      <th></th>\n",
       "      <th>user_id</th>\n",
       "      <th>items_count</th>\n",
       "      <th>steam_id</th>\n",
       "      <th>user_url</th>\n",
       "      <th>item_id</th>\n",
       "      <th>item_name</th>\n",
       "      <th>playtime_forever</th>\n",
       "      <th>playtime_2weeks</th>\n",
       "    </tr>\n",
       "  </thead>\n",
       "  <tbody>\n",
       "    <tr>\n",
       "      <th>0</th>\n",
       "      <td>76561197970982479</td>\n",
       "      <td>277</td>\n",
       "      <td>76561197970982479</td>\n",
       "      <td>http://steamcommunity.com/profiles/76561197970...</td>\n",
       "      <td>273350</td>\n",
       "      <td>Evolve Stage 2</td>\n",
       "      <td>58.0</td>\n",
       "      <td>0.0</td>\n",
       "    </tr>\n",
       "    <tr>\n",
       "      <th>1</th>\n",
       "      <td>js41637</td>\n",
       "      <td>888</td>\n",
       "      <td>76561198035864385</td>\n",
       "      <td>http://steamcommunity.com/id/js41637</td>\n",
       "      <td>397060</td>\n",
       "      <td>Faeria</td>\n",
       "      <td>0.0</td>\n",
       "      <td>0.0</td>\n",
       "    </tr>\n",
       "    <tr>\n",
       "      <th>2</th>\n",
       "      <td>evcentric</td>\n",
       "      <td>137</td>\n",
       "      <td>76561198007712555</td>\n",
       "      <td>http://steamcommunity.com/id/evcentric</td>\n",
       "      <td>466170</td>\n",
       "      <td>Idling to Rule the Gods</td>\n",
       "      <td>28545.0</td>\n",
       "      <td>1554.0</td>\n",
       "    </tr>\n",
       "    <tr>\n",
       "      <th>3</th>\n",
       "      <td>Riot-Punch</td>\n",
       "      <td>328</td>\n",
       "      <td>76561197963445855</td>\n",
       "      <td>http://steamcommunity.com/id/Riot-Punch</td>\n",
       "      <td>379720</td>\n",
       "      <td>DOOM</td>\n",
       "      <td>1.0</td>\n",
       "      <td>1.0</td>\n",
       "    </tr>\n",
       "    <tr>\n",
       "      <th>4</th>\n",
       "      <td>doctr</td>\n",
       "      <td>541</td>\n",
       "      <td>76561198002099482</td>\n",
       "      <td>http://steamcommunity.com/id/doctr</td>\n",
       "      <td>324810</td>\n",
       "      <td>TOXIKK</td>\n",
       "      <td>0.0</td>\n",
       "      <td>0.0</td>\n",
       "    </tr>\n",
       "  </tbody>\n",
       "</table>\n",
       "</div>"
      ],
      "text/plain": [
       "             user_id  items_count           steam_id  \\\n",
       "0  76561197970982479          277  76561197970982479   \n",
       "1            js41637          888  76561198035864385   \n",
       "2          evcentric          137  76561198007712555   \n",
       "3         Riot-Punch          328  76561197963445855   \n",
       "4              doctr          541  76561198002099482   \n",
       "\n",
       "                                            user_url item_id  \\\n",
       "0  http://steamcommunity.com/profiles/76561197970...  273350   \n",
       "1               http://steamcommunity.com/id/js41637  397060   \n",
       "2             http://steamcommunity.com/id/evcentric  466170   \n",
       "3            http://steamcommunity.com/id/Riot-Punch  379720   \n",
       "4                 http://steamcommunity.com/id/doctr  324810   \n",
       "\n",
       "                 item_name  playtime_forever  playtime_2weeks  \n",
       "0           Evolve Stage 2              58.0              0.0  \n",
       "1                   Faeria               0.0              0.0  \n",
       "2  Idling to Rule the Gods           28545.0           1554.0  \n",
       "3                     DOOM               1.0              1.0  \n",
       "4                   TOXIKK               0.0              0.0  "
      ]
     },
     "execution_count": 34,
     "metadata": {},
     "output_type": "execute_result"
    }
   ],
   "source": [
    "df.head()"
   ]
  },
  {
   "cell_type": "markdown",
   "metadata": {},
   "source": [
    "### 'reviews.csv'"
   ]
  },
  {
   "cell_type": "code",
   "execution_count": 27,
   "metadata": {},
   "outputs": [
    {
     "data": {
      "text/html": [
       "<div>\n",
       "<style scoped>\n",
       "    .dataframe tbody tr th:only-of-type {\n",
       "        vertical-align: middle;\n",
       "    }\n",
       "\n",
       "    .dataframe tbody tr th {\n",
       "        vertical-align: top;\n",
       "    }\n",
       "\n",
       "    .dataframe thead th {\n",
       "        text-align: right;\n",
       "    }\n",
       "</style>\n",
       "<table border=\"1\" class=\"dataframe\">\n",
       "  <thead>\n",
       "    <tr style=\"text-align: right;\">\n",
       "      <th></th>\n",
       "      <th>user_id</th>\n",
       "      <th>user_url</th>\n",
       "      <th>reviews</th>\n",
       "    </tr>\n",
       "  </thead>\n",
       "  <tbody>\n",
       "    <tr>\n",
       "      <th>0</th>\n",
       "      <td>76561197970982479</td>\n",
       "      <td>http://steamcommunity.com/profiles/76561197970...</td>\n",
       "      <td>[{'funny': '', 'posted': 'Posted November 5, 2...</td>\n",
       "    </tr>\n",
       "    <tr>\n",
       "      <th>1</th>\n",
       "      <td>js41637</td>\n",
       "      <td>http://steamcommunity.com/id/js41637</td>\n",
       "      <td>[{'funny': '', 'posted': 'Posted June 24, 2014...</td>\n",
       "    </tr>\n",
       "    <tr>\n",
       "      <th>2</th>\n",
       "      <td>evcentric</td>\n",
       "      <td>http://steamcommunity.com/id/evcentric</td>\n",
       "      <td>[{'funny': '', 'posted': 'Posted February 3.',...</td>\n",
       "    </tr>\n",
       "    <tr>\n",
       "      <th>3</th>\n",
       "      <td>doctr</td>\n",
       "      <td>http://steamcommunity.com/id/doctr</td>\n",
       "      <td>[{'funny': '', 'posted': 'Posted October 14, 2...</td>\n",
       "    </tr>\n",
       "    <tr>\n",
       "      <th>4</th>\n",
       "      <td>maplemage</td>\n",
       "      <td>http://steamcommunity.com/id/maplemage</td>\n",
       "      <td>[{'funny': '3 people found this review funny',...</td>\n",
       "    </tr>\n",
       "  </tbody>\n",
       "</table>\n",
       "</div>"
      ],
      "text/plain": [
       "             user_id                                           user_url  \\\n",
       "0  76561197970982479  http://steamcommunity.com/profiles/76561197970...   \n",
       "1            js41637               http://steamcommunity.com/id/js41637   \n",
       "2          evcentric             http://steamcommunity.com/id/evcentric   \n",
       "3              doctr                 http://steamcommunity.com/id/doctr   \n",
       "4          maplemage             http://steamcommunity.com/id/maplemage   \n",
       "\n",
       "                                             reviews  \n",
       "0  [{'funny': '', 'posted': 'Posted November 5, 2...  \n",
       "1  [{'funny': '', 'posted': 'Posted June 24, 2014...  \n",
       "2  [{'funny': '', 'posted': 'Posted February 3.',...  \n",
       "3  [{'funny': '', 'posted': 'Posted October 14, 2...  \n",
       "4  [{'funny': '3 people found this review funny',...  "
      ]
     },
     "execution_count": 27,
     "metadata": {},
     "output_type": "execute_result"
    }
   ],
   "source": [
    "df = pd.read_csv(r'C:\\Users\\123la\\Documents\\GitHub\\ssss\\PI01_Steam_MLops\\data\\reviews.csv')\n",
    "df.head()"
   ]
  }
 ],
 "metadata": {
  "kernelspec": {
   "display_name": "Python 3",
   "language": "python",
   "name": "python3"
  },
  "language_info": {
   "codemirror_mode": {
    "name": "ipython",
    "version": 3
   },
   "file_extension": ".py",
   "mimetype": "text/x-python",
   "name": "python",
   "nbconvert_exporter": "python",
   "pygments_lexer": "ipython3",
   "version": "3.11.8"
  },
  "orig_nbformat": 4
 },
 "nbformat": 4,
 "nbformat_minor": 2
}
