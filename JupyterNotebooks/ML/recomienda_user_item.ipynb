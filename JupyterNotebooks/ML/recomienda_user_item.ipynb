{
 "cells": [
  {
   "cell_type": "markdown",
   "metadata": {},
   "source": [
    "# Modelo de recomendacion basado en user-item"
   ]
  },
  {
   "cell_type": "code",
   "execution_count": null,
   "metadata": {},
   "outputs": [],
   "source": [
    "import pandas as pd\n",
    "from sklearn.metrics.pairwise import cosine_similarity\n",
    "\n",
    "# 1. Calcular la matriz de similitud entre usuarios\n",
    "def calcular_similitud_usuarios(interacciones_usuario_item):\n",
    "    similitud_usuario_usuario = cosine_similarity(interacciones_usuario_item)\n",
    "    return similitud_usuario_usuario\n",
    "\n",
    "# 2. Identificar usuarios similares\n",
    "def encontrar_usuarios_similares(usuario, similitud_usuario_usuario, k=5):\n",
    "    # Obtener el índice del usuario\n",
    "    indice_usuario = ... # Encuentra el índice del usuario en tu conjunto de datos\n",
    "    # Ordenar los usuarios por similitud y seleccionar los k más similares\n",
    "    usuarios_similares = sorted(list(enumerate(similitud_usuario_usuario[indice_usuario])), reverse=True, key=lambda x: x[1])[1:k+1]\n",
    "    return usuarios_similares\n",
    "\n",
    "# 3. Recomendar ítems\n",
    "def recomendar_items(usuario, usuarios_similares, interacciones_usuario_item, top_n=5):\n",
    "    items_recomendados = []\n",
    "    for similar_user, similitud in usuarios_similares:\n",
    "        # Obtener los ítems que el usuario similar ha consumido pero el usuario objetivo no ha consumido\n",
    "        items_usuario_similar = interacciones_usuario_item[similar_user]\n",
    "        items_usuario_objetivo = interacciones_usuario_item[usuario]\n",
    "        items_no_consumidos = [item for item in items_usuario_similar if item not in items_usuario_objetivo and item != 0]\n",
    "        items_recomendados.extend(items_no_consumidos)\n",
    "    # Contar la frecuencia de cada ítem recomendado y devolver los top_n ítems más frecuentes\n",
    "    items_recomendados = pd.Series(items_recomendados).value_counts().head(top_n).index.tolist()\n",
    "    return items_recomendados\n",
    "\n",
    "# Ejemplo de uso\n",
    "# interacciones_usuario_item es una matriz donde las filas representan usuarios y las columnas representan ítems, \n",
    "# y los valores son las interacciones (por ejemplo, 1 si el usuario ha interactuado con el ítem, 0 de lo contrario)\n",
    "interacciones_usuario_item = ...\n",
    "\n",
    "# Calcular la similitud entre usuarios\n",
    "similitud_usuario_usuario = calcular_similitud_usuarios(interacciones_usuario_item)\n",
    "\n",
    "# Encontrar usuarios similares para un usuario dado\n",
    "usuario = ...\n",
    "usuarios_similares = encontrar_usuarios_similares(usuario, similitud_usuario_usuario)\n",
    "\n",
    "# Recomendar ítems para el usuario dado\n",
    "top_n = 5\n",
    "items_recomendados = recomendar_items(usuario, usuarios_similares, interacciones_usuario_item, top_n)\n",
    "print(\"Ítems recomendados para el usuario:\", items_recomendados)\n"
   ]
  }
 ],
 "metadata": {
  "language_info": {
   "name": "python"
  }
 },
 "nbformat": 4,
 "nbformat_minor": 2
}
