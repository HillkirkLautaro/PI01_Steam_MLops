{
 "cells": [
  {
   "cell_type": "markdown",
   "id": "972b041e",
   "metadata": {},
   "source": [
    "En este apartado se hicieron todos las tranformaciones necesarias para las funciones que va a consumir la API. Se tienen como fuentes de datos los archivos ya limpios: user_reviews_cleaned, steam_games_cleaned, user_items_cleaned. Se persigue la eficiencia y ligereza de estas consultas para facilitar el trabajo de la API."
   ]
  },
  {
   "cell_type": "markdown",
   "id": "18fe0739",
   "metadata": {},
   "source": [
    "### Importar Bibliotecas"
   ]
  },
  {
   "cell_type": "code",
   "execution_count": 2,
   "id": "2b2d26c4",
   "metadata": {},
   "outputs": [],
   "source": [
    "import pandas as pd\n",
    "import os\n",
    "import ast"
   ]
  },
  {
   "cell_type": "markdown",
   "id": "f5c2c2a2",
   "metadata": {},
   "source": [
    "### Cargar el conjunto de datos limpios"
   ]
  },
  {
   "cell_type": "code",
   "execution_count": 3,
   "id": "7840870b",
   "metadata": {},
   "outputs": [],
   "source": [
    "df_steam_games = pd.read_csv(r'C:\\Users\\123la\\Documents\\GitHub\\repositorios de github\\PI01_Steam_MLops\\data\\steam_games_cleaned.csv')\n",
    "df_user_reviews = pd.read_csv(r'C:\\Users\\123la\\Documents\\GitHub\\repositorios de github\\PI01_Steam_MLops\\data\\data_reviews_cleaned.csv')\n",
    "df_user_items = pd.read_csv(r'C:\\Users\\123la\\Documents\\GitHub\\repositorios de github\\PI01_Steam_MLops\\data\\user_items_cleaned.csv')"
   ]
  },
  {
   "cell_type": "markdown",
   "id": "b539c3f2",
   "metadata": {},
   "source": [
    "### Rutinas"
   ]
  },
  {
   "cell_type": "code",
   "execution_count": 4,
   "id": "85712f92",
   "metadata": {},
   "outputs": [],
   "source": [
    "df_reviews = pd.read_csv(r'C:\\Users\\123la\\Documents\\GitHub\\repositorios de github\\PI01_Steam_MLops\\data\\df_reviews.csv')\n",
    "df_gastos_items = pd.read_csv(r'C:\\Users\\123la\\Documents\\GitHub\\repositorios de github\\PI01_Steam_MLops\\data\\df_gastos_items.csv')\n",
    "df_items_developer = pd.read_csv(r'C:\\Users\\123la\\Documents\\GitHub\\repositorios de github\\PI01_Steam_MLops\\data\\df_items_developer.csv')"
   ]
  },
  {
   "cell_type": "markdown",
   "id": "c42981a6",
   "metadata": {},
   "source": [
    "### developer \n",
    "\n",
    "\n",
    "Esta función recibe como parámetro 'developer', que es la empresa desarrolladora del juego, y devuelve la cantidad de items que desarrolla dicha empresa y el porcentaje de contenido Free por año por sobre el total que desarrolla"
   ]
  },
  {
   "cell_type": "code",
   "execution_count": 5,
   "id": "77b58b43",
   "metadata": {},
   "outputs": [],
   "source": [
    "def developer(desarrollador):\n",
    "    # Filtra el dataframe por desarrollador de interés\n",
    "    data_filtrada = df_items_developer[df_items_developer['developer'] == desarrollador]\n",
    "    # Calcula la cantidad de items por año\n",
    "    cantidad_por_año = data_filtrada.groupby('release_anio')['item_id'].count()\n",
    "    # Calcula la cantidad de elementos gratis por año\n",
    "    cantidad_gratis_por_año = data_filtrada[data_filtrada['price'] == 0.0].groupby('release_anio')['item_id'].count()\n",
    "    # Calcula el porcentaje de elementos gratis por año\n",
    "    porcentaje_gratis_por_año = (cantidad_gratis_por_año / cantidad_por_año * 100).fillna(0).astype(int)\n",
    "\n",
    "    result_dict = {\n",
    "        'cantidad_por_año': cantidad_por_año.to_dict(),\n",
    "        'porcentaje_gratis_por_año': porcentaje_gratis_por_año.to_dict()\n",
    "    }\n",
    "    \n",
    "    return result_dict"
   ]
  },
  {
   "cell_type": "code",
   "execution_count": 6,
   "id": "0b7742a1",
   "metadata": {},
   "outputs": [
    {
     "data": {
      "text/plain": [
       "{'cantidad_por_año': {'2016': 2, '2017': 1},\n",
       " 'porcentaje_gratis_por_año': {'2016': 50, '2017': 0}}"
      ]
     },
     "execution_count": 6,
     "metadata": {},
     "output_type": "execute_result"
    }
   ],
   "source": [
    "desarrollador = 'Mechanical Boss'\n",
    "developer(desarrollador)"
   ]
  },
  {
   "cell_type": "markdown",
   "id": "2d9583b1",
   "metadata": {},
   "source": [
    "### user data "
   ]
  },
  {
   "cell_type": "code",
   "execution_count": 12,
   "id": "e9d0638d",
   "metadata": {},
   "outputs": [],
   "source": [
    "def userdata(user_id):\n",
    "    # Filter by the user of interest\n",
    "    usuario = df_user_reviews[df_reviews['user_id'] == user_id]\n",
    "    \n",
    "    # Calculate the amount of money spent by the user of interest\n",
    "    cantidad_dinero = df_gastos_items[df_gastos_items['user_id'] == user_id]['price'].iloc[0]\n",
    "    \n",
    "    # Find the count_item for the user of interest    \n",
    "    count_items = df_gastos_items[df_gastos_items['user_id'] == user_id]['items_count'].iloc[0]\n",
    "    \n",
    "    # Calculate the total recommendations made by the user of interest\n",
    "    total_recomendaciones = usuario['reviews_recommend'].sum()\n",
    "    \n",
    "    # Calculate the total reviews made by all users\n",
    "    total_reviews = len(df_reviews['user_id'].unique())\n",
    "    \n",
    "    # Calculate the percentage of recommendations made by the user of interest\n",
    "    porcentaje_recomendaciones = (total_recomendaciones / total_reviews) * 100\n",
    "    \n",
    "    return {\n",
    "        'cantidad_dinero': cantidad_dinero,\n",
    "        'porcentaje_recomendacion': round(porcentaje_recomendaciones, 2),\n",
    "        'total_items': count_items.astype(int)\n",
    "    }"
   ]
  },
  {
   "cell_type": "code",
   "execution_count": 15,
   "id": "7fe09ac0",
   "metadata": {},
   "outputs": [
    {
     "name": "stdout",
     "output_type": "stream",
     "text": [
      "True\n"
     ]
    },
    {
     "name": "stderr",
     "output_type": "stream",
     "text": [
      "C:\\Users\\123la\\AppData\\Local\\Temp\\ipykernel_8396\\544392978.py:1: UserWarning: Boolean Series key will be reindexed to match DataFrame index.\n",
      "  usuario = df_user_reviews[df_reviews['user_id'] == user_id]\n"
     ]
    }
   ],
   "source": [
    "usuario = df_user_reviews[df_reviews['user_id'] == user_id]\n",
    "print(usuario['recommend'].iloc[0])"
   ]
  },
  {
   "cell_type": "code",
   "execution_count": 16,
   "id": "ba60c81c",
   "metadata": {},
   "outputs": [
    {
     "name": "stderr",
     "output_type": "stream",
     "text": [
      "C:\\Users\\123la\\AppData\\Local\\Temp\\ipykernel_8396\\1797596098.py:3: UserWarning: Boolean Series key will be reindexed to match DataFrame index.\n",
      "  usuario = df_user_reviews[df_reviews['user_id'] == user_id]\n"
     ]
    },
    {
     "ename": "KeyError",
     "evalue": "'reviews_recommend'",
     "output_type": "error",
     "traceback": [
      "\u001b[1;31m---------------------------------------------------------------------------\u001b[0m",
      "\u001b[1;31mKeyError\u001b[0m                                  Traceback (most recent call last)",
      "File \u001b[1;32m~\\AppData\\Local\\Packages\\PythonSoftwareFoundation.Python.3.11_qbz5n2kfra8p0\\LocalCache\\local-packages\\Python311\\site-packages\\pandas\\core\\indexes\\base.py:3653\u001b[0m, in \u001b[0;36mIndex.get_loc\u001b[1;34m(self, key)\u001b[0m\n\u001b[0;32m   3652\u001b[0m \u001b[38;5;28;01mtry\u001b[39;00m:\n\u001b[1;32m-> 3653\u001b[0m     \u001b[38;5;28;01mreturn\u001b[39;00m \u001b[38;5;28;43mself\u001b[39;49m\u001b[38;5;241;43m.\u001b[39;49m\u001b[43m_engine\u001b[49m\u001b[38;5;241;43m.\u001b[39;49m\u001b[43mget_loc\u001b[49m\u001b[43m(\u001b[49m\u001b[43mcasted_key\u001b[49m\u001b[43m)\u001b[49m\n\u001b[0;32m   3654\u001b[0m \u001b[38;5;28;01mexcept\u001b[39;00m \u001b[38;5;167;01mKeyError\u001b[39;00m \u001b[38;5;28;01mas\u001b[39;00m err:\n",
      "File \u001b[1;32m~\\AppData\\Local\\Packages\\PythonSoftwareFoundation.Python.3.11_qbz5n2kfra8p0\\LocalCache\\local-packages\\Python311\\site-packages\\pandas\\_libs\\index.pyx:147\u001b[0m, in \u001b[0;36mpandas._libs.index.IndexEngine.get_loc\u001b[1;34m()\u001b[0m\n",
      "File \u001b[1;32m~\\AppData\\Local\\Packages\\PythonSoftwareFoundation.Python.3.11_qbz5n2kfra8p0\\LocalCache\\local-packages\\Python311\\site-packages\\pandas\\_libs\\index.pyx:176\u001b[0m, in \u001b[0;36mpandas._libs.index.IndexEngine.get_loc\u001b[1;34m()\u001b[0m\n",
      "File \u001b[1;32mpandas\\_libs\\hashtable_class_helper.pxi:7080\u001b[0m, in \u001b[0;36mpandas._libs.hashtable.PyObjectHashTable.get_item\u001b[1;34m()\u001b[0m\n",
      "File \u001b[1;32mpandas\\_libs\\hashtable_class_helper.pxi:7088\u001b[0m, in \u001b[0;36mpandas._libs.hashtable.PyObjectHashTable.get_item\u001b[1;34m()\u001b[0m\n",
      "\u001b[1;31mKeyError\u001b[0m: 'reviews_recommend'",
      "\nThe above exception was the direct cause of the following exception:\n",
      "\u001b[1;31mKeyError\u001b[0m                                  Traceback (most recent call last)",
      "Cell \u001b[1;32mIn[16], line 2\u001b[0m\n\u001b[0;32m      1\u001b[0m user_id \u001b[38;5;241m=\u001b[39m \u001b[38;5;124m'\u001b[39m\u001b[38;5;124mEchoXSilence\u001b[39m\u001b[38;5;124m'\u001b[39m\n\u001b[1;32m----> 2\u001b[0m \u001b[43muserdata\u001b[49m\u001b[43m(\u001b[49m\u001b[43muser_id\u001b[49m\u001b[43m)\u001b[49m\n",
      "Cell \u001b[1;32mIn[12], line 12\u001b[0m, in \u001b[0;36muserdata\u001b[1;34m(user_id)\u001b[0m\n\u001b[0;32m      9\u001b[0m count_items \u001b[38;5;241m=\u001b[39m df_gastos_items[df_gastos_items[\u001b[38;5;124m'\u001b[39m\u001b[38;5;124muser_id\u001b[39m\u001b[38;5;124m'\u001b[39m] \u001b[38;5;241m==\u001b[39m user_id][\u001b[38;5;124m'\u001b[39m\u001b[38;5;124mitems_count\u001b[39m\u001b[38;5;124m'\u001b[39m]\u001b[38;5;241m.\u001b[39miloc[\u001b[38;5;241m0\u001b[39m]\n\u001b[0;32m     11\u001b[0m \u001b[38;5;66;03m# Calculate the total recommendations made by the user of interest\u001b[39;00m\n\u001b[1;32m---> 12\u001b[0m total_recomendaciones \u001b[38;5;241m=\u001b[39m \u001b[43musuario\u001b[49m\u001b[43m[\u001b[49m\u001b[38;5;124;43m'\u001b[39;49m\u001b[38;5;124;43mreviews_recommend\u001b[39;49m\u001b[38;5;124;43m'\u001b[39;49m\u001b[43m]\u001b[49m\u001b[38;5;241m.\u001b[39msum()\n\u001b[0;32m     14\u001b[0m \u001b[38;5;66;03m# Calculate the total reviews made by all users\u001b[39;00m\n\u001b[0;32m     15\u001b[0m total_reviews \u001b[38;5;241m=\u001b[39m \u001b[38;5;28mlen\u001b[39m(df_reviews[\u001b[38;5;124m'\u001b[39m\u001b[38;5;124muser_id\u001b[39m\u001b[38;5;124m'\u001b[39m]\u001b[38;5;241m.\u001b[39munique())\n",
      "File \u001b[1;32m~\\AppData\\Local\\Packages\\PythonSoftwareFoundation.Python.3.11_qbz5n2kfra8p0\\LocalCache\\local-packages\\Python311\\site-packages\\pandas\\core\\frame.py:3761\u001b[0m, in \u001b[0;36mDataFrame.__getitem__\u001b[1;34m(self, key)\u001b[0m\n\u001b[0;32m   3759\u001b[0m \u001b[38;5;28;01mif\u001b[39;00m \u001b[38;5;28mself\u001b[39m\u001b[38;5;241m.\u001b[39mcolumns\u001b[38;5;241m.\u001b[39mnlevels \u001b[38;5;241m>\u001b[39m \u001b[38;5;241m1\u001b[39m:\n\u001b[0;32m   3760\u001b[0m     \u001b[38;5;28;01mreturn\u001b[39;00m \u001b[38;5;28mself\u001b[39m\u001b[38;5;241m.\u001b[39m_getitem_multilevel(key)\n\u001b[1;32m-> 3761\u001b[0m indexer \u001b[38;5;241m=\u001b[39m \u001b[38;5;28;43mself\u001b[39;49m\u001b[38;5;241;43m.\u001b[39;49m\u001b[43mcolumns\u001b[49m\u001b[38;5;241;43m.\u001b[39;49m\u001b[43mget_loc\u001b[49m\u001b[43m(\u001b[49m\u001b[43mkey\u001b[49m\u001b[43m)\u001b[49m\n\u001b[0;32m   3762\u001b[0m \u001b[38;5;28;01mif\u001b[39;00m is_integer(indexer):\n\u001b[0;32m   3763\u001b[0m     indexer \u001b[38;5;241m=\u001b[39m [indexer]\n",
      "File \u001b[1;32m~\\AppData\\Local\\Packages\\PythonSoftwareFoundation.Python.3.11_qbz5n2kfra8p0\\LocalCache\\local-packages\\Python311\\site-packages\\pandas\\core\\indexes\\base.py:3655\u001b[0m, in \u001b[0;36mIndex.get_loc\u001b[1;34m(self, key)\u001b[0m\n\u001b[0;32m   3653\u001b[0m     \u001b[38;5;28;01mreturn\u001b[39;00m \u001b[38;5;28mself\u001b[39m\u001b[38;5;241m.\u001b[39m_engine\u001b[38;5;241m.\u001b[39mget_loc(casted_key)\n\u001b[0;32m   3654\u001b[0m \u001b[38;5;28;01mexcept\u001b[39;00m \u001b[38;5;167;01mKeyError\u001b[39;00m \u001b[38;5;28;01mas\u001b[39;00m err:\n\u001b[1;32m-> 3655\u001b[0m     \u001b[38;5;28;01mraise\u001b[39;00m \u001b[38;5;167;01mKeyError\u001b[39;00m(key) \u001b[38;5;28;01mfrom\u001b[39;00m \u001b[38;5;21;01merr\u001b[39;00m\n\u001b[0;32m   3656\u001b[0m \u001b[38;5;28;01mexcept\u001b[39;00m \u001b[38;5;167;01mTypeError\u001b[39;00m:\n\u001b[0;32m   3657\u001b[0m     \u001b[38;5;66;03m# If we have a listlike key, _check_indexing_error will raise\u001b[39;00m\n\u001b[0;32m   3658\u001b[0m     \u001b[38;5;66;03m#  InvalidIndexError. Otherwise we fall through and re-raise\u001b[39;00m\n\u001b[0;32m   3659\u001b[0m     \u001b[38;5;66;03m#  the TypeError.\u001b[39;00m\n\u001b[0;32m   3660\u001b[0m     \u001b[38;5;28mself\u001b[39m\u001b[38;5;241m.\u001b[39m_check_indexing_error(key)\n",
      "\u001b[1;31mKeyError\u001b[0m: 'reviews_recommend'"
     ]
    }
   ],
   "source": [
    "user_id = 'EchoXSilence'\n",
    "userdata(user_id)"
   ]
  },
  {
   "cell_type": "markdown",
   "id": "56bcb30b",
   "metadata": {},
   "source": [
    "### UserForGenre "
   ]
  },
  {
   "cell_type": "code",
   "execution_count": null,
   "id": "8873b90d",
   "metadata": {},
   "outputs": [
    {
     "ename": "NameError",
     "evalue": "name 'df_steam_games' is not defined",
     "output_type": "error",
     "traceback": [
      "\u001b[1;31m---------------------------------------------------------------------------\u001b[0m",
      "\u001b[1;31mNameError\u001b[0m                                 Traceback (most recent call last)",
      "Cell \u001b[1;32mIn[1], line 1\u001b[0m\n\u001b[1;32m----> 1\u001b[0m df_game \u001b[38;5;241m=\u001b[39m \u001b[43mdf_steam_games\u001b[49m\u001b[38;5;241m.\u001b[39mdrop([\u001b[38;5;124m'\u001b[39m\u001b[38;5;124mname\u001b[39m\u001b[38;5;124m'\u001b[39m, \u001b[38;5;124m'\u001b[39m\u001b[38;5;124mdeveloper\u001b[39m\u001b[38;5;124m'\u001b[39m, \u001b[38;5;124m'\u001b[39m\u001b[38;5;124mprice\u001b[39m\u001b[38;5;124m'\u001b[39m, \u001b[38;5;124m'\u001b[39m\u001b[38;5;124mtags\u001b[39m\u001b[38;5;124m'\u001b[39m,\u001b[38;5;124m'\u001b[39m\u001b[38;5;124mspecs\u001b[39m\u001b[38;5;124m'\u001b[39m],axis\u001b[38;5;241m=\u001b[39m\u001b[38;5;241m1\u001b[39m)\n\u001b[0;32m      3\u001b[0m \u001b[38;5;66;03m# Merge de los DataFrames\u001b[39;00m\n\u001b[0;32m      4\u001b[0m merged_data\u001b[38;5;241m=\u001b[39mpd\u001b[38;5;241m.\u001b[39mmerge(df_user_items,df_game,left_on\u001b[38;5;241m=\u001b[39m\u001b[38;5;124m'\u001b[39m\u001b[38;5;124mitem_id\u001b[39m\u001b[38;5;124m'\u001b[39m, right_on\u001b[38;5;241m=\u001b[39m\u001b[38;5;124m'\u001b[39m\u001b[38;5;124mitem_id\u001b[39m\u001b[38;5;124m'\u001b[39m, how\u001b[38;5;241m=\u001b[39m\u001b[38;5;124m'\u001b[39m\u001b[38;5;124mright\u001b[39m\u001b[38;5;124m'\u001b[39m)\n",
      "\u001b[1;31mNameError\u001b[0m: name 'df_steam_games' is not defined"
     ]
    }
   ],
   "source": [
    "df_game = df_steam_games.drop(['name', 'developer', 'price', 'tags','specs'],axis=1)\n",
    "\n",
    "# Merge de los DataFrames\n",
    "merged_data=pd.merge(df_user_items,df_game,left_on='item_id', right_on='item_id', how='right')\n",
    "\n",
    "merged_data.drop(['item_id'], axis=1, inplace=True)\n",
    "merged_data.dropna(inplace=True)\n",
    "\n",
    "merged_data['hours_game'] = merged_data['hours_game'].astype(int)\n",
    "merged_data['year'] = merged_data['year'].astype(int)\n",
    "\n",
    "#Convertimos la columna genres a tipo lista\n",
    "merged_data['genres'] = merged_data['genres'].apply(ast.literal_eval)\n",
    "\n",
    "#Expandimos las listas en columnas\n",
    "merged_data = merged_data.explode('genres').reset_index(drop=True)\n",
    "\n",
    "#Encontrar el jugador con más horas jugadas por género y año\n",
    "max_hours_df = merged_data.loc[merged_data.groupby(['genres', 'year'])['hours_game'].idxmax()]\n",
    "\n",
    "#Filtrar las columnas necesarias\n",
    "max_hours_df = max_hours_df[['genres', 'year', 'hours_game','user_id']]\n",
    "\n",
    "#Segunda agrupación para obtener las horas jugadas por año para el usuario seleccionado\n",
    "max_hours = max_hours_df.groupby(['genres', 'year'])['hours_game'].sum().reset_index()\n",
    "max_hours.head()\n",
    "#max_hours.to_csv('UserForGenre.csv', index=False)"
   ]
  },
  {
   "cell_type": "code",
   "execution_count": null,
   "id": "1e99c624",
   "metadata": {},
   "outputs": [
    {
     "data": {
      "text/plain": [
       "Index(['genres', 'year', 'hours_game'], dtype='object')"
      ]
     },
     "execution_count": 24,
     "metadata": {},
     "output_type": "execute_result"
    }
   ],
   "source": [
    "max_hours_df.columns"
   ]
  },
  {
   "cell_type": "markdown",
   "id": "445bdcdc",
   "metadata": {},
   "source": [
    "##### best_developer_year "
   ]
  },
  {
   "cell_type": "code",
   "execution_count": null,
   "id": "dd80a85b",
   "metadata": {},
   "outputs": [],
   "source": [
    "# Unir los DataFrames\n",
    "df_merged = pd.merge(df_user_reviews, df_steam_games, on='item_id', how='left')\n",
    "\n",
    "# Filtrar las filas que cumplen con las condiciones\n",
    "df_filtered = df_merged.loc[(df_merged['recommend'] == False) & (df_merged['sentiment_analysis'] == 0),\n",
    "                           ['year_x', 'developer']]\n",
    " \n",
    "# Renombrar la columna 'year_x' a 'year'\n",
    "df_filtered = df_filtered.rename(columns={'year_x': 'year'})\n",
    "\n",
    "# Contar las ocurrencias de cada desarrolladora por año\n",
    "developer_counts = df_filtered.groupby(['year', 'developer']).size().reset_index(name='count')\n",
    "    \n",
    "# Ordenar por 'year' y 'count' en orden descendente\n",
    "grouped_result = developer_counts.sort_values(by=['year', 'count'], ascending=[False, False])    \n",
    "\n",
    "# Obtener el top 3 por año\n",
    "result_df = grouped_result.groupby('year').head(3)    \n",
    "\n",
    "# Guardar el resultado en un archivo CSV\n",
    "result_df.to_csv('best_developer_year.csv', index=False)"
   ]
  },
  {
   "cell_type": "markdown",
   "id": "8b993638",
   "metadata": {},
   "source": [
    "##### developer_review_analysis"
   ]
  },
  {
   "cell_type": "code",
   "execution_count": null,
   "id": "fdadfba1",
   "metadata": {},
   "outputs": [],
   "source": [
    "# Merge de los DataFrames\n",
    "merged_df = pd.merge(df_steam_games, df_user_reviews, on='item_id', how='inner')\n",
    "\n",
    "# Agrupar por desarrolladora y sentimiento, y contar las ocurrencias\n",
    "result_df = merged_df.groupby(['developer', 'sentiment_analysis']).size().reset_index(name='count')\n",
    "\n",
    "# Pivoteando el DataFrame para tener sentimientos como columnas\n",
    "result_df = result_df.pivot(index='developer', columns='sentiment_analysis', values='count').reset_index()\n",
    "\n",
    "# Renombrar las columnas según el formato deseado\n",
    "result_df.columns = ['developer', 'Negative', 'Neutral', 'Positive']\n",
    "\n",
    "# Rellenar NaN con 0\n",
    "result_df = result_df.fillna(0)\n",
    "\n",
    "# Convertir las columnas a tipo int\n",
    "result_df[['Negative', 'Neutral', 'Positive']] = result_df[['Negative', 'Neutral', 'Positive']].astype(int)\n",
    "\n",
    "# Guardar el resultado en un archivo CSV\n",
    "result_df.to_csv('developer_reviews_analysis.csv', index=False)"
   ]
  }
 ],
 "metadata": {
  "kernelspec": {
   "display_name": "Python 3 (ipykernel)",
   "language": "python",
   "name": "python3"
  },
  "language_info": {
   "codemirror_mode": {
    "name": "ipython",
    "version": 3
   },
   "file_extension": ".py",
   "mimetype": "text/x-python",
   "name": "python",
   "nbconvert_exporter": "python",
   "pygments_lexer": "ipython3",
   "version": "3.11.8"
  }
 },
 "nbformat": 4,
 "nbformat_minor": 5
}
