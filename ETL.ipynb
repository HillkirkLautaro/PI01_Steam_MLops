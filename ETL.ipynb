{
 "cells": [
  {
   "cell_type": "markdown",
   "metadata": {},
   "source": [
    "# ETL"
   ]
  },
  {
   "cell_type": "markdown",
   "metadata": {},
   "source": [
    "En esta jupyter notebook se desarrolla la extracción, transformación y carga de los conjuntos de datos."
   ]
  },
  {
   "cell_type": "markdown",
   "metadata": {},
   "source": [
    "## Importaciones"
   ]
  },
  {
   "cell_type": "code",
   "execution_count": 1,
   "metadata": {},
   "outputs": [],
   "source": [
    "import pandas as pd\n",
    "import json\n",
    "import gzip\n",
    "import numpy as np\n",
    "\n",
    "\n",
    "%load_ext autoreload\n",
    "%autoreload 2\n",
    "import utils\n",
    "\n",
    "import warnings\n",
    "warnings.filterwarnings(\"ignore\")"
   ]
  },
  {
   "cell_type": "markdown",
   "metadata": {},
   "source": [
    "## Extracción de los datos"
   ]
  },
  {
   "cell_type": "markdown",
   "metadata": {},
   "source": [
    "Funcion para extraer los datos \".json\" y convertirlos en \".csv\" para la exploración."
   ]
  },
  {
   "cell_type": "code",
   "execution_count": 8,
   "metadata": {},
   "outputs": [],
   "source": [
    "def procesar_archivo_json(file_path, file_path1):\n",
    "    data_list = []\n",
    "\n",
    "    try:\n",
    "        with gzip.open(file_path, 'rb') as file:\n",
    "            for line in file:\n",
    "                try:\n",
    "                    decoded_line = line.decode('utf-8')\n",
    "                    json_data = json.loads(decoded_line)\n",
    "                    data_list.append(json_data)\n",
    "                except ValueError as e:\n",
    "                    print(f\"Error en la linea: {line}\")\n",
    "                    continue\n",
    "        data_df = pd.DataFrame(data_list)\n",
    "        data_df.to_csv(file_path1, index = False)\n",
    "        return print(\"Archivo guardado satisfactoriamente en :\", {file_path1})\n",
    "    except FileNotFoundError:\n",
    "        print(\"El archivo no se encuentra\")\n",
    "        return None\n",
    "    except Exception as e:\n",
    "        print(f\"Ocurrio un error: {str(e)}\")\n",
    "        return None     "
   ]
  },
  {
   "cell_type": "code",
   "execution_count": 10,
   "metadata": {},
   "outputs": [
    {
     "name": "stdout",
     "output_type": "stream",
     "text": [
      "Archivo guardado satisfactoriamente en : {'C:\\\\Users\\\\123la\\\\Documents\\\\GitHub\\\\ssss\\\\sesese\\\\data\\\\games.csv'}\n",
      "Archivo guardado satisfactoriamente en : {'C:\\\\Users\\\\123la\\\\Documents\\\\GitHub\\\\ssss\\\\sesese\\\\data\\\\items.csv'}\n",
      "Archivo guardado satisfactoriamente en : {'C:\\\\Users\\\\123la\\\\Documents\\\\GitHub\\\\ssss\\\\sesese\\\\data\\\\reviews.csv'}\n"
     ]
    }
   ],
   "source": [
    "procesar_archivo_json(r'C:\\Users\\123la\\Documents\\GitHub\\ssss\\sesese\\data\\steam_games.json.gz', r'C:\\Users\\123la\\Documents\\GitHub\\ssss\\sesese\\data\\games.csv')\n",
    "procesar_archivo_json(r'C:\\Users\\123la\\Documents\\GitHub\\ssss\\sesese\\data\\steam_games.json.gz', r'C:\\Users\\123la\\Documents\\GitHub\\ssss\\sesese\\data\\items.csv')\n",
    "procesar_archivo_json(r'C:\\Users\\123la\\Documents\\GitHub\\ssss\\sesese\\data\\steam_games.json.gz', r'C:\\Users\\123la\\Documents\\GitHub\\ssss\\sesese\\data\\reviews.csv')"
   ]
  },
  {
   "cell_type": "markdown",
   "metadata": {},
   "source": [
    "# Transformación de los datos\n"
   ]
  },
  {
   "cell_type": "markdown",
   "metadata": {},
   "source": [
    "### 'games.csv'.\n"
   ]
  },
  {
   "cell_type": "code",
   "execution_count": 2,
   "metadata": {},
   "outputs": [
    {
     "data": {
      "text/html": [
       "<div>\n",
       "<style scoped>\n",
       "    .dataframe tbody tr th:only-of-type {\n",
       "        vertical-align: middle;\n",
       "    }\n",
       "\n",
       "    .dataframe tbody tr th {\n",
       "        vertical-align: top;\n",
       "    }\n",
       "\n",
       "    .dataframe thead th {\n",
       "        text-align: right;\n",
       "    }\n",
       "</style>\n",
       "<table border=\"1\" class=\"dataframe\">\n",
       "  <thead>\n",
       "    <tr style=\"text-align: right;\">\n",
       "      <th></th>\n",
       "      <th>publisher</th>\n",
       "      <th>genres</th>\n",
       "      <th>app_name</th>\n",
       "      <th>title</th>\n",
       "      <th>url</th>\n",
       "      <th>release_date</th>\n",
       "      <th>tags</th>\n",
       "      <th>reviews_url</th>\n",
       "      <th>specs</th>\n",
       "      <th>price</th>\n",
       "      <th>early_access</th>\n",
       "      <th>id</th>\n",
       "      <th>developer</th>\n",
       "    </tr>\n",
       "  </thead>\n",
       "  <tbody>\n",
       "    <tr>\n",
       "      <th>0</th>\n",
       "      <td>NaN</td>\n",
       "      <td>NaN</td>\n",
       "      <td>NaN</td>\n",
       "      <td>NaN</td>\n",
       "      <td>NaN</td>\n",
       "      <td>NaN</td>\n",
       "      <td>NaN</td>\n",
       "      <td>NaN</td>\n",
       "      <td>NaN</td>\n",
       "      <td>NaN</td>\n",
       "      <td>NaN</td>\n",
       "      <td>NaN</td>\n",
       "      <td>NaN</td>\n",
       "    </tr>\n",
       "    <tr>\n",
       "      <th>1</th>\n",
       "      <td>NaN</td>\n",
       "      <td>NaN</td>\n",
       "      <td>NaN</td>\n",
       "      <td>NaN</td>\n",
       "      <td>NaN</td>\n",
       "      <td>NaN</td>\n",
       "      <td>NaN</td>\n",
       "      <td>NaN</td>\n",
       "      <td>NaN</td>\n",
       "      <td>NaN</td>\n",
       "      <td>NaN</td>\n",
       "      <td>NaN</td>\n",
       "      <td>NaN</td>\n",
       "    </tr>\n",
       "    <tr>\n",
       "      <th>2</th>\n",
       "      <td>NaN</td>\n",
       "      <td>NaN</td>\n",
       "      <td>NaN</td>\n",
       "      <td>NaN</td>\n",
       "      <td>NaN</td>\n",
       "      <td>NaN</td>\n",
       "      <td>NaN</td>\n",
       "      <td>NaN</td>\n",
       "      <td>NaN</td>\n",
       "      <td>NaN</td>\n",
       "      <td>NaN</td>\n",
       "      <td>NaN</td>\n",
       "      <td>NaN</td>\n",
       "    </tr>\n",
       "    <tr>\n",
       "      <th>3</th>\n",
       "      <td>NaN</td>\n",
       "      <td>NaN</td>\n",
       "      <td>NaN</td>\n",
       "      <td>NaN</td>\n",
       "      <td>NaN</td>\n",
       "      <td>NaN</td>\n",
       "      <td>NaN</td>\n",
       "      <td>NaN</td>\n",
       "      <td>NaN</td>\n",
       "      <td>NaN</td>\n",
       "      <td>NaN</td>\n",
       "      <td>NaN</td>\n",
       "      <td>NaN</td>\n",
       "    </tr>\n",
       "    <tr>\n",
       "      <th>4</th>\n",
       "      <td>NaN</td>\n",
       "      <td>NaN</td>\n",
       "      <td>NaN</td>\n",
       "      <td>NaN</td>\n",
       "      <td>NaN</td>\n",
       "      <td>NaN</td>\n",
       "      <td>NaN</td>\n",
       "      <td>NaN</td>\n",
       "      <td>NaN</td>\n",
       "      <td>NaN</td>\n",
       "      <td>NaN</td>\n",
       "      <td>NaN</td>\n",
       "      <td>NaN</td>\n",
       "    </tr>\n",
       "  </tbody>\n",
       "</table>\n",
       "</div>"
      ],
      "text/plain": [
       "  publisher genres app_name title  url release_date tags reviews_url specs  \\\n",
       "0       NaN    NaN      NaN   NaN  NaN          NaN  NaN         NaN   NaN   \n",
       "1       NaN    NaN      NaN   NaN  NaN          NaN  NaN         NaN   NaN   \n",
       "2       NaN    NaN      NaN   NaN  NaN          NaN  NaN         NaN   NaN   \n",
       "3       NaN    NaN      NaN   NaN  NaN          NaN  NaN         NaN   NaN   \n",
       "4       NaN    NaN      NaN   NaN  NaN          NaN  NaN         NaN   NaN   \n",
       "\n",
       "  price early_access  id developer  \n",
       "0   NaN          NaN NaN       NaN  \n",
       "1   NaN          NaN NaN       NaN  \n",
       "2   NaN          NaN NaN       NaN  \n",
       "3   NaN          NaN NaN       NaN  \n",
       "4   NaN          NaN NaN       NaN  "
      ]
     },
     "execution_count": 2,
     "metadata": {},
     "output_type": "execute_result"
    }
   ],
   "source": [
    "df = pd.read_csv(r'C:\\Users\\123la\\Documents\\GitHub\\ssss\\sesese\\data\\games.csv', encoding = \"utf-8\")\n",
    "df.head()"
   ]
  },
  {
   "cell_type": "code",
   "execution_count": 3,
   "metadata": {},
   "outputs": [
    {
     "name": "stdout",
     "output_type": "stream",
     "text": [
      "Cantidad de valores vacíos por columna:\n",
      "publisher       96381\n",
      "genres          91593\n",
      "app_name        88312\n",
      "title           90360\n",
      "url             88310\n",
      "release_date    90377\n",
      "tags            88473\n",
      "reviews_url     88312\n",
      "specs           88980\n",
      "price           89687\n",
      "early_access    88310\n",
      "id              88312\n",
      "developer       91609\n",
      "dtype: int64\n",
      "\n",
      "Cantidad total de valores vacíos en el DataFrame: 1169016\n"
     ]
    }
   ],
   "source": [
    "cantidad_vacios_por_columna = df.isnull().sum()\n",
    "cantidad_total_vacios = df.isnull().sum().sum()\n",
    "\n",
    "print(\"Cantidad de valores vacíos por columna:\")\n",
    "print(cantidad_vacios_por_columna)\n",
    "print(\"\\nCantidad total de valores vacíos en el DataFrame:\", cantidad_total_vacios)\n"
   ]
  },
  {
   "cell_type": "code",
   "execution_count": 4,
   "metadata": {},
   "outputs": [
    {
     "name": "stdout",
     "output_type": "stream",
     "text": [
      "Cantidad de valores vacíos por columna:\n",
      "publisher       0\n",
      "genres          0\n",
      "app_name        0\n",
      "title           0\n",
      "url             0\n",
      "release_date    0\n",
      "tags            0\n",
      "reviews_url     0\n",
      "specs           0\n",
      "price           0\n",
      "early_access    0\n",
      "id              0\n",
      "developer       0\n",
      "dtype: int64\n",
      "\n",
      "Cantidad total de valores vacíos en el DataFrame: 0\n"
     ]
    }
   ],
   "source": [
    "df = df.dropna()\n",
    "cantidad_vacios_por_columna = df.isnull().sum()\n",
    "cantidad_total_vacios = df.isnull().sum().sum()\n",
    "\n",
    "print(\"Cantidad de valores vacíos por columna:\")\n",
    "print(cantidad_vacios_por_columna)\n",
    "print(\"\\nCantidad total de valores vacíos en el DataFrame:\", cantidad_total_vacios)\n"
   ]
  },
  {
   "cell_type": "markdown",
   "metadata": {},
   "source": [
    "##### Que columnas conservar\n"
   ]
  },
  {
   "cell_type": "markdown",
   "metadata": {},
   "source": [
    "Teniendo en cuenta que se nos pide : \n",
    "\n",
    "* def *developer*( desarrollador : str ): Cantidad de items y porcentaje de contenido Free por año según empresa desarrolladora.\n",
    "Mantener : \"tags\", \"developer\"\n",
    "\n",
    "* def *userdata*( User_id : str ): Debe devolver cantidad de dinero gastado por el usuario, el porcentaje de recomendación en base a reviews.recommend y cantidad de items.\n",
    "Mantener : \"price\"\n",
    "\n",
    "* def *UserForGenre*( genero : str ): Debe devolver el usuario que acumula más horas jugadas para el género dado y una lista de la acumulación de horas jugadas por año de lanzamiento.\n",
    "Mantener : \"genre\", \"release_date\"\n",
    "\n",
    "* def *best_developer_year*( año : int ): Devuelve el top 3 de desarrolladores con juegos MÁS recomendados por usuarios para el año dado. (reviews.recommend = True y comentarios positivos)\n",
    "Mantener : \"developer\"\n",
    "\n",
    "* def *developer_reviews_analysis*( desarrolladora : str ): Según el desarrollador, se devuelve un diccionario con el nombre del desarrollador como llave y una lista con la cantidad total de registros de reseñas de usuarios que se encuentren categorizados con un análisis de sentimiento como valor positivo o negativo.\n",
    "Mantener : \"developer\"."
   ]
  },
  {
   "cell_type": "markdown",
   "metadata": {},
   "source": [
    "Las columnas a mantener: \"developer\", \"price\", \"genre\", \"release_date\", \"tags\", \"id\", \"title\". A eliminar: \"app_name\", \"publisher\", \"url\", \"early_acces\", \"specs\""
   ]
  },
  {
   "cell_type": "code",
   "execution_count": 35,
   "metadata": {},
   "outputs": [
    {
     "data": {
      "text/plain": [
       "Index(['publisher', 'genres', 'app_name', 'title', 'url', 'release_date',\n",
       "       'tags', 'reviews_url', 'specs', 'price', 'early_access', 'id',\n",
       "       'developer'],\n",
       "      dtype='object')"
      ]
     },
     "execution_count": 35,
     "metadata": {},
     "output_type": "execute_result"
    }
   ],
   "source": [
    "df.columns"
   ]
  },
  {
   "cell_type": "code",
   "execution_count": 44,
   "metadata": {},
   "outputs": [
    {
     "data": {
      "text/html": [
       "<div>\n",
       "<style scoped>\n",
       "    .dataframe tbody tr th:only-of-type {\n",
       "        vertical-align: middle;\n",
       "    }\n",
       "\n",
       "    .dataframe tbody tr th {\n",
       "        vertical-align: top;\n",
       "    }\n",
       "\n",
       "    .dataframe thead th {\n",
       "        text-align: right;\n",
       "    }\n",
       "</style>\n",
       "<table border=\"1\" class=\"dataframe\">\n",
       "  <thead>\n",
       "    <tr style=\"text-align: right;\">\n",
       "      <th></th>\n",
       "      <th>genres</th>\n",
       "      <th>title</th>\n",
       "      <th>release_date</th>\n",
       "      <th>tags</th>\n",
       "      <th>price</th>\n",
       "      <th>id</th>\n",
       "      <th>developer</th>\n",
       "    </tr>\n",
       "  </thead>\n",
       "  <tbody>\n",
       "    <tr>\n",
       "      <th>88310</th>\n",
       "      <td>['Action', 'Casual', 'Indie', 'Simulation', 'S...</td>\n",
       "      <td>Lost Summoner Kitty</td>\n",
       "      <td>2018-01-04</td>\n",
       "      <td>['Strategy', 'Action', 'Indie', 'Casual', 'Sim...</td>\n",
       "      <td>4.99</td>\n",
       "      <td>761140.0</td>\n",
       "      <td>Kotoshiro</td>\n",
       "    </tr>\n",
       "    <tr>\n",
       "      <th>88311</th>\n",
       "      <td>['Free to Play', 'Indie', 'RPG', 'Strategy']</td>\n",
       "      <td>Ironbound</td>\n",
       "      <td>2018-01-04</td>\n",
       "      <td>['Free to Play', 'Strategy', 'Indie', 'RPG', '...</td>\n",
       "      <td>Free To Play</td>\n",
       "      <td>643980.0</td>\n",
       "      <td>Secret Level SRL</td>\n",
       "    </tr>\n",
       "    <tr>\n",
       "      <th>88312</th>\n",
       "      <td>['Casual', 'Free to Play', 'Indie', 'Simulatio...</td>\n",
       "      <td>Real Pool 3D - Poolians</td>\n",
       "      <td>2017-07-24</td>\n",
       "      <td>['Free to Play', 'Simulation', 'Sports', 'Casu...</td>\n",
       "      <td>Free to Play</td>\n",
       "      <td>670290.0</td>\n",
       "      <td>Poolians.com</td>\n",
       "    </tr>\n",
       "    <tr>\n",
       "      <th>88313</th>\n",
       "      <td>['Action', 'Adventure', 'Casual']</td>\n",
       "      <td>弹炸人2222</td>\n",
       "      <td>2017-12-07</td>\n",
       "      <td>['Action', 'Adventure', 'Casual']</td>\n",
       "      <td>0.99</td>\n",
       "      <td>767400.0</td>\n",
       "      <td>彼岸领域</td>\n",
       "    </tr>\n",
       "    <tr>\n",
       "      <th>88315</th>\n",
       "      <td>['Action', 'Adventure', 'Simulation']</td>\n",
       "      <td>Battle Royale Trainer</td>\n",
       "      <td>2018-01-04</td>\n",
       "      <td>['Action', 'Adventure', 'Simulation', 'FPS', '...</td>\n",
       "      <td>3.99</td>\n",
       "      <td>772540.0</td>\n",
       "      <td>Trickjump Games Ltd</td>\n",
       "    </tr>\n",
       "  </tbody>\n",
       "</table>\n",
       "</div>"
      ],
      "text/plain": [
       "                                                  genres  \\\n",
       "88310  ['Action', 'Casual', 'Indie', 'Simulation', 'S...   \n",
       "88311       ['Free to Play', 'Indie', 'RPG', 'Strategy']   \n",
       "88312  ['Casual', 'Free to Play', 'Indie', 'Simulatio...   \n",
       "88313                  ['Action', 'Adventure', 'Casual']   \n",
       "88315              ['Action', 'Adventure', 'Simulation']   \n",
       "\n",
       "                         title release_date  \\\n",
       "88310      Lost Summoner Kitty   2018-01-04   \n",
       "88311                Ironbound   2018-01-04   \n",
       "88312  Real Pool 3D - Poolians   2017-07-24   \n",
       "88313                  弹炸人2222   2017-12-07   \n",
       "88315    Battle Royale Trainer   2018-01-04   \n",
       "\n",
       "                                                    tags         price  \\\n",
       "88310  ['Strategy', 'Action', 'Indie', 'Casual', 'Sim...          4.99   \n",
       "88311  ['Free to Play', 'Strategy', 'Indie', 'RPG', '...  Free To Play   \n",
       "88312  ['Free to Play', 'Simulation', 'Sports', 'Casu...  Free to Play   \n",
       "88313                  ['Action', 'Adventure', 'Casual']          0.99   \n",
       "88315  ['Action', 'Adventure', 'Simulation', 'FPS', '...          3.99   \n",
       "\n",
       "             id            developer  \n",
       "88310  761140.0            Kotoshiro  \n",
       "88311  643980.0     Secret Level SRL  \n",
       "88312  670290.0         Poolians.com  \n",
       "88313  767400.0                 彼岸领域  \n",
       "88315  772540.0  Trickjump Games Ltd  "
      ]
     },
     "execution_count": 44,
     "metadata": {},
     "output_type": "execute_result"
    }
   ],
   "source": [
    "df.head()"
   ]
  },
  {
   "cell_type": "markdown",
   "metadata": {},
   "source": [
    "##### Examino la columna \"genres\""
   ]
  },
  {
   "cell_type": "code",
   "execution_count": 37,
   "metadata": {},
   "outputs": [
    {
     "name": "stdout",
     "output_type": "stream",
     "text": [
      "\n",
      "Tipo de datos de la columna:\n",
      "object\n",
      "\n",
      "Número de elementos en la columna:\n",
      "22511\n",
      "\n",
      "Tipos de datos únicos en la columna:\n",
      "[<class 'str'>]\n",
      "\n",
      "Tamaño del elemento en cada fila:\n",
      "88310     55\n",
      "88311     44\n",
      "88312     59\n",
      "88313     33\n",
      "88315     37\n",
      "          ..\n",
      "120439    42\n",
      "120440    45\n",
      "120441    31\n",
      "120442    33\n",
      "120443    19\n",
      "Name: genres, Length: 22511, dtype: int64\n",
      "\n",
      "Claves únicas en los genres:\n",
      "set()\n"
     ]
    }
   ],
   "source": [
    "# Ver el tipo de datos de la columna que contiene genres\n",
    "print(\"\\nTipo de datos de la columna:\")\n",
    "print(df['genres'].dtype)\n",
    "\n",
    "# Ver el número de elementos en la columna\n",
    "print(\"\\nNúmero de elementos en la columna:\")\n",
    "print(len(df['genres']))\n",
    "\n",
    "# Obtener el tipo de datos único en la columna\n",
    "print(\"\\nTipos de datos únicos en la columna:\")\n",
    "unique_types = df['genres'].apply(type).unique()\n",
    "print(unique_types)\n",
    "\n",
    "# Obtener el tamaño del elemento en cada fila\n",
    "print(\"\\nTamaño del elemento en cada fila:\")\n",
    "print(df['genres'].apply(lambda x: len(x) if isinstance(x, (dict, list, str)) else None))\n",
    "\n",
    "# Obtener las claves únicas en todos los genres de la columna\n",
    "print(\"\\nClaves únicas en los genres:\")\n",
    "unique_keys = set()\n",
    "for item in df['genres']:\n",
    "    if isinstance(item, dict):\n",
    "        unique_keys.update(item.keys())\n",
    "print(unique_keys)"
   ]
  },
  {
   "cell_type": "markdown",
   "metadata": {},
   "source": [
    "##### Examino la columna \"tags\""
   ]
  },
  {
   "cell_type": "code",
   "execution_count": 5,
   "metadata": {},
   "outputs": [
    {
     "name": "stdout",
     "output_type": "stream",
     "text": [
      "\n",
      "Tipo de datos de la columna:\n",
      "object\n",
      "\n",
      "Número de elementos en la columna:\n",
      "22511\n",
      "\n",
      "Tipos de datos únicos en la columna:\n",
      "[<class 'str'>]\n",
      "\n",
      "Tamaño del elemento en cada fila:\n",
      "88310      55\n",
      "88311     276\n",
      "88312      74\n",
      "88313      33\n",
      "88315     105\n",
      "         ... \n",
      "120439     53\n",
      "120440     45\n",
      "120441     31\n",
      "120442     33\n",
      "120443     72\n",
      "Name: tags, Length: 22511, dtype: int64\n",
      "\n",
      "Claves únicas en los tags:\n",
      "set()\n"
     ]
    }
   ],
   "source": [
    "# Ver el tipo de datos de la columna que contiene tags\n",
    "print(\"\\nTipo de datos de la columna:\")\n",
    "print(df['tags'].dtype)\n",
    "\n",
    "# Ver el número de elementos en la columna\n",
    "print(\"\\nNúmero de elementos en la columna:\")\n",
    "print(len(df['tags']))\n",
    "\n",
    "# Obtener el tipo de datos único en la columna\n",
    "print(\"\\nTipos de datos únicos en la columna:\")\n",
    "unique_types = df['tags'].apply(type).unique()\n",
    "print(unique_types)\n",
    "\n",
    "# Obtener el tamaño del elemento en cada fila\n",
    "print(\"\\nTamaño del elemento en cada fila:\")\n",
    "print(df['tags'].apply(lambda x: len(x) if isinstance(x, (dict, list, str)) else None))\n",
    "\n",
    "# Obtener las claves únicas en todos los tags de la columna\n",
    "print(\"\\nClaves únicas en los tags:\")\n",
    "unique_keys = set()\n",
    "for item in df['tags']:\n",
    "    if isinstance(item, dict):\n",
    "        unique_keys.update(item.keys())\n",
    "print(unique_keys)"
   ]
  },
  {
   "cell_type": "markdown",
   "metadata": {},
   "source": [
    "### 'items.csv"
   ]
  }
 ],
 "metadata": {
  "kernelspec": {
   "display_name": "Python 3",
   "language": "python",
   "name": "python3"
  },
  "language_info": {
   "codemirror_mode": {
    "name": "ipython",
    "version": 3
   },
   "file_extension": ".py",
   "mimetype": "text/x-python",
   "name": "python",
   "nbconvert_exporter": "python",
   "pygments_lexer": "ipython3",
   "version": "3.11.8"
  },
  "orig_nbformat": 4
 },
 "nbformat": 4,
 "nbformat_minor": 2
}
